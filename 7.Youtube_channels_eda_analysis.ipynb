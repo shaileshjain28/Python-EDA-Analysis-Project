{
 "cells": [
  {
   "cell_type": "code",
   "execution_count": 1,
   "id": "baf7beb5",
   "metadata": {},
   "outputs": [],
   "source": [
    "import pandas as pd\n",
    "import seaborn as sns\n",
    "import numpy as np"
   ]
  },
  {
   "cell_type": "code",
   "execution_count": 2,
   "id": "f76c5062",
   "metadata": {},
   "outputs": [],
   "source": [
    "data=pd.read_csv('Youtube.csv')"
   ]
  },
  {
   "cell_type": "code",
   "execution_count": 3,
   "id": "5f53b238",
   "metadata": {},
   "outputs": [],
   "source": [
    "data1=data.copy()"
   ]
  },
  {
   "cell_type": "code",
   "execution_count": 4,
   "id": "89b111f3",
   "metadata": {},
   "outputs": [
    {
     "data": {
      "text/html": [
       "<div>\n",
       "<style scoped>\n",
       "    .dataframe tbody tr th:only-of-type {\n",
       "        vertical-align: middle;\n",
       "    }\n",
       "\n",
       "    .dataframe tbody tr th {\n",
       "        vertical-align: top;\n",
       "    }\n",
       "\n",
       "    .dataframe thead th {\n",
       "        text-align: right;\n",
       "    }\n",
       "</style>\n",
       "<table border=\"1\" class=\"dataframe\">\n",
       "  <thead>\n",
       "    <tr style=\"text-align: right;\">\n",
       "      <th></th>\n",
       "      <th>Rank</th>\n",
       "      <th>Grade</th>\n",
       "      <th>Channel name</th>\n",
       "      <th>Video Uploads</th>\n",
       "      <th>Subscribers</th>\n",
       "      <th>Video views</th>\n",
       "    </tr>\n",
       "  </thead>\n",
       "  <tbody>\n",
       "    <tr>\n",
       "      <th>0</th>\n",
       "      <td>1st</td>\n",
       "      <td>A++</td>\n",
       "      <td>Zee TV</td>\n",
       "      <td>82757</td>\n",
       "      <td>18752951</td>\n",
       "      <td>20869786591</td>\n",
       "    </tr>\n",
       "    <tr>\n",
       "      <th>1</th>\n",
       "      <td>2nd</td>\n",
       "      <td>A++</td>\n",
       "      <td>T-Series</td>\n",
       "      <td>12661</td>\n",
       "      <td>61196302</td>\n",
       "      <td>47548839843</td>\n",
       "    </tr>\n",
       "    <tr>\n",
       "      <th>2</th>\n",
       "      <td>3rd</td>\n",
       "      <td>A++</td>\n",
       "      <td>Cocomelon - Nursery Rhymes</td>\n",
       "      <td>373</td>\n",
       "      <td>19238251</td>\n",
       "      <td>9793305082</td>\n",
       "    </tr>\n",
       "    <tr>\n",
       "      <th>3</th>\n",
       "      <td>4th</td>\n",
       "      <td>A++</td>\n",
       "      <td>SET India</td>\n",
       "      <td>27323</td>\n",
       "      <td>31180559</td>\n",
       "      <td>22675948293</td>\n",
       "    </tr>\n",
       "    <tr>\n",
       "      <th>4</th>\n",
       "      <td>5th</td>\n",
       "      <td>A++</td>\n",
       "      <td>WWE</td>\n",
       "      <td>36756</td>\n",
       "      <td>32852346</td>\n",
       "      <td>26273668433</td>\n",
       "    </tr>\n",
       "    <tr>\n",
       "      <th>...</th>\n",
       "      <td>...</td>\n",
       "      <td>...</td>\n",
       "      <td>...</td>\n",
       "      <td>...</td>\n",
       "      <td>...</td>\n",
       "      <td>...</td>\n",
       "    </tr>\n",
       "    <tr>\n",
       "      <th>4995</th>\n",
       "      <td>4,996th</td>\n",
       "      <td>B+</td>\n",
       "      <td>Uras Benlioğlu</td>\n",
       "      <td>706</td>\n",
       "      <td>2072942</td>\n",
       "      <td>441202795</td>\n",
       "    </tr>\n",
       "    <tr>\n",
       "      <th>4996</th>\n",
       "      <td>4,997th</td>\n",
       "      <td>B+</td>\n",
       "      <td>HI-TECH MUSIC LTD</td>\n",
       "      <td>797</td>\n",
       "      <td>1055091</td>\n",
       "      <td>377331722</td>\n",
       "    </tr>\n",
       "    <tr>\n",
       "      <th>4997</th>\n",
       "      <td>4,998th</td>\n",
       "      <td>B+</td>\n",
       "      <td>Mastersaint</td>\n",
       "      <td>110</td>\n",
       "      <td>3265735</td>\n",
       "      <td>311758426</td>\n",
       "    </tr>\n",
       "    <tr>\n",
       "      <th>4998</th>\n",
       "      <td>4,999th</td>\n",
       "      <td>B+</td>\n",
       "      <td>Bruce McIntosh</td>\n",
       "      <td>3475</td>\n",
       "      <td>32990</td>\n",
       "      <td>14563764</td>\n",
       "    </tr>\n",
       "    <tr>\n",
       "      <th>4999</th>\n",
       "      <td>5,000th</td>\n",
       "      <td>B+</td>\n",
       "      <td>SehatAQUA</td>\n",
       "      <td>254</td>\n",
       "      <td>21172</td>\n",
       "      <td>73312511</td>\n",
       "    </tr>\n",
       "  </tbody>\n",
       "</table>\n",
       "<p>5000 rows × 6 columns</p>\n",
       "</div>"
      ],
      "text/plain": [
       "         Rank Grade                Channel name Video Uploads Subscribers  \\\n",
       "0         1st  A++                       Zee TV         82757    18752951   \n",
       "1         2nd  A++                     T-Series         12661    61196302   \n",
       "2         3rd  A++   Cocomelon - Nursery Rhymes           373    19238251   \n",
       "3         4th  A++                    SET India         27323    31180559   \n",
       "4         5th  A++                          WWE         36756    32852346   \n",
       "...       ...   ...                         ...           ...         ...   \n",
       "4995  4,996th   B+               Uras Benlioğlu           706     2072942   \n",
       "4996  4,997th   B+            HI-TECH MUSIC LTD           797     1055091   \n",
       "4997  4,998th   B+                  Mastersaint           110     3265735   \n",
       "4998  4,999th   B+               Bruce McIntosh          3475       32990   \n",
       "4999  5,000th   B+                    SehatAQUA           254       21172   \n",
       "\n",
       "      Video views  \n",
       "0     20869786591  \n",
       "1     47548839843  \n",
       "2      9793305082  \n",
       "3     22675948293  \n",
       "4     26273668433  \n",
       "...           ...  \n",
       "4995    441202795  \n",
       "4996    377331722  \n",
       "4997    311758426  \n",
       "4998     14563764  \n",
       "4999     73312511  \n",
       "\n",
       "[5000 rows x 6 columns]"
      ]
     },
     "execution_count": 4,
     "metadata": {},
     "output_type": "execute_result"
    }
   ],
   "source": [
    "data1"
   ]
  },
  {
   "cell_type": "markdown",
   "id": "e87d5b9f",
   "metadata": {},
   "source": [
    "# 1. Display All Rows Except the Last 5 rows Using Head Method"
   ]
  },
  {
   "cell_type": "code",
   "execution_count": 5,
   "id": "f5f09d0f",
   "metadata": {},
   "outputs": [
    {
     "data": {
      "text/html": [
       "<div>\n",
       "<style scoped>\n",
       "    .dataframe tbody tr th:only-of-type {\n",
       "        vertical-align: middle;\n",
       "    }\n",
       "\n",
       "    .dataframe tbody tr th {\n",
       "        vertical-align: top;\n",
       "    }\n",
       "\n",
       "    .dataframe thead th {\n",
       "        text-align: right;\n",
       "    }\n",
       "</style>\n",
       "<table border=\"1\" class=\"dataframe\">\n",
       "  <thead>\n",
       "    <tr style=\"text-align: right;\">\n",
       "      <th></th>\n",
       "      <th>Rank</th>\n",
       "      <th>Grade</th>\n",
       "      <th>Channel name</th>\n",
       "      <th>Video Uploads</th>\n",
       "      <th>Subscribers</th>\n",
       "      <th>Video views</th>\n",
       "    </tr>\n",
       "  </thead>\n",
       "  <tbody>\n",
       "    <tr>\n",
       "      <th>0</th>\n",
       "      <td>1st</td>\n",
       "      <td>A++</td>\n",
       "      <td>Zee TV</td>\n",
       "      <td>82757</td>\n",
       "      <td>18752951</td>\n",
       "      <td>20869786591</td>\n",
       "    </tr>\n",
       "    <tr>\n",
       "      <th>1</th>\n",
       "      <td>2nd</td>\n",
       "      <td>A++</td>\n",
       "      <td>T-Series</td>\n",
       "      <td>12661</td>\n",
       "      <td>61196302</td>\n",
       "      <td>47548839843</td>\n",
       "    </tr>\n",
       "    <tr>\n",
       "      <th>2</th>\n",
       "      <td>3rd</td>\n",
       "      <td>A++</td>\n",
       "      <td>Cocomelon - Nursery Rhymes</td>\n",
       "      <td>373</td>\n",
       "      <td>19238251</td>\n",
       "      <td>9793305082</td>\n",
       "    </tr>\n",
       "    <tr>\n",
       "      <th>3</th>\n",
       "      <td>4th</td>\n",
       "      <td>A++</td>\n",
       "      <td>SET India</td>\n",
       "      <td>27323</td>\n",
       "      <td>31180559</td>\n",
       "      <td>22675948293</td>\n",
       "    </tr>\n",
       "    <tr>\n",
       "      <th>4</th>\n",
       "      <td>5th</td>\n",
       "      <td>A++</td>\n",
       "      <td>WWE</td>\n",
       "      <td>36756</td>\n",
       "      <td>32852346</td>\n",
       "      <td>26273668433</td>\n",
       "    </tr>\n",
       "    <tr>\n",
       "      <th>...</th>\n",
       "      <td>...</td>\n",
       "      <td>...</td>\n",
       "      <td>...</td>\n",
       "      <td>...</td>\n",
       "      <td>...</td>\n",
       "      <td>...</td>\n",
       "    </tr>\n",
       "    <tr>\n",
       "      <th>4990</th>\n",
       "      <td>4,991st</td>\n",
       "      <td>B+</td>\n",
       "      <td>Ho Ngoc Ha's Official Channel</td>\n",
       "      <td>208</td>\n",
       "      <td>--</td>\n",
       "      <td>127185704</td>\n",
       "    </tr>\n",
       "    <tr>\n",
       "      <th>4991</th>\n",
       "      <td>4,992nd</td>\n",
       "      <td>B+</td>\n",
       "      <td>Toys to Learn Colors</td>\n",
       "      <td>11</td>\n",
       "      <td>663114</td>\n",
       "      <td>141933264</td>\n",
       "    </tr>\n",
       "    <tr>\n",
       "      <th>4992</th>\n",
       "      <td>4,993rd</td>\n",
       "      <td>B+</td>\n",
       "      <td>КАZКА</td>\n",
       "      <td>25</td>\n",
       "      <td>131766</td>\n",
       "      <td>74304638</td>\n",
       "    </tr>\n",
       "    <tr>\n",
       "      <th>4993</th>\n",
       "      <td>4,994th</td>\n",
       "      <td>B+</td>\n",
       "      <td>United CUBE (CUBE Entertainment…</td>\n",
       "      <td>1055</td>\n",
       "      <td>1586835</td>\n",
       "      <td>371299166</td>\n",
       "    </tr>\n",
       "    <tr>\n",
       "      <th>4994</th>\n",
       "      <td>4,995th</td>\n",
       "      <td>B+</td>\n",
       "      <td>Wings Marathi</td>\n",
       "      <td>1735</td>\n",
       "      <td>1099659</td>\n",
       "      <td>346175699</td>\n",
       "    </tr>\n",
       "  </tbody>\n",
       "</table>\n",
       "<p>4995 rows × 6 columns</p>\n",
       "</div>"
      ],
      "text/plain": [
       "         Rank Grade                      Channel name Video Uploads  \\\n",
       "0         1st  A++                             Zee TV         82757   \n",
       "1         2nd  A++                           T-Series         12661   \n",
       "2         3rd  A++         Cocomelon - Nursery Rhymes           373   \n",
       "3         4th  A++                          SET India         27323   \n",
       "4         5th  A++                                WWE         36756   \n",
       "...       ...   ...                               ...           ...   \n",
       "4990  4,991st   B+      Ho Ngoc Ha's Official Channel           208   \n",
       "4991  4,992nd   B+               Toys to Learn Colors            11   \n",
       "4992  4,993rd   B+                              КАZКА            25   \n",
       "4993  4,994th   B+   United CUBE (CUBE Entertainment…          1055   \n",
       "4994  4,995th   B+                      Wings Marathi          1735   \n",
       "\n",
       "     Subscribers  Video views  \n",
       "0       18752951  20869786591  \n",
       "1       61196302  47548839843  \n",
       "2       19238251   9793305082  \n",
       "3       31180559  22675948293  \n",
       "4       32852346  26273668433  \n",
       "...          ...          ...  \n",
       "4990         --     127185704  \n",
       "4991      663114    141933264  \n",
       "4992      131766     74304638  \n",
       "4993     1586835    371299166  \n",
       "4994     1099659    346175699  \n",
       "\n",
       "[4995 rows x 6 columns]"
      ]
     },
     "execution_count": 5,
     "metadata": {},
     "output_type": "execute_result"
    }
   ],
   "source": [
    "data1.head(-5)"
   ]
  },
  {
   "cell_type": "markdown",
   "id": "7813dffc",
   "metadata": {},
   "source": [
    "# 2. Display All Rows Except the Last 5 rows Using Head Method"
   ]
  },
  {
   "cell_type": "code",
   "execution_count": 6,
   "id": "e7f2d14e",
   "metadata": {},
   "outputs": [
    {
     "data": {
      "text/html": [
       "<div>\n",
       "<style scoped>\n",
       "    .dataframe tbody tr th:only-of-type {\n",
       "        vertical-align: middle;\n",
       "    }\n",
       "\n",
       "    .dataframe tbody tr th {\n",
       "        vertical-align: top;\n",
       "    }\n",
       "\n",
       "    .dataframe thead th {\n",
       "        text-align: right;\n",
       "    }\n",
       "</style>\n",
       "<table border=\"1\" class=\"dataframe\">\n",
       "  <thead>\n",
       "    <tr style=\"text-align: right;\">\n",
       "      <th></th>\n",
       "      <th>Rank</th>\n",
       "      <th>Grade</th>\n",
       "      <th>Channel name</th>\n",
       "      <th>Video Uploads</th>\n",
       "      <th>Subscribers</th>\n",
       "      <th>Video views</th>\n",
       "    </tr>\n",
       "  </thead>\n",
       "  <tbody>\n",
       "    <tr>\n",
       "      <th>5</th>\n",
       "      <td>6th</td>\n",
       "      <td>A++</td>\n",
       "      <td>Movieclips</td>\n",
       "      <td>30243</td>\n",
       "      <td>17149705</td>\n",
       "      <td>16618094724</td>\n",
       "    </tr>\n",
       "    <tr>\n",
       "      <th>6</th>\n",
       "      <td>7th</td>\n",
       "      <td>A++</td>\n",
       "      <td>netd müzik</td>\n",
       "      <td>8500</td>\n",
       "      <td>11373567</td>\n",
       "      <td>23898730764</td>\n",
       "    </tr>\n",
       "    <tr>\n",
       "      <th>7</th>\n",
       "      <td>8th</td>\n",
       "      <td>A++</td>\n",
       "      <td>ABS-CBN Entertainment</td>\n",
       "      <td>100147</td>\n",
       "      <td>12149206</td>\n",
       "      <td>17202609850</td>\n",
       "    </tr>\n",
       "    <tr>\n",
       "      <th>8</th>\n",
       "      <td>9th</td>\n",
       "      <td>A++</td>\n",
       "      <td>Ryan ToysReview</td>\n",
       "      <td>1140</td>\n",
       "      <td>16082927</td>\n",
       "      <td>24518098041</td>\n",
       "    </tr>\n",
       "    <tr>\n",
       "      <th>9</th>\n",
       "      <td>10th</td>\n",
       "      <td>A++</td>\n",
       "      <td>Zee Marathi</td>\n",
       "      <td>74607</td>\n",
       "      <td>2841811</td>\n",
       "      <td>2591830307</td>\n",
       "    </tr>\n",
       "    <tr>\n",
       "      <th>...</th>\n",
       "      <td>...</td>\n",
       "      <td>...</td>\n",
       "      <td>...</td>\n",
       "      <td>...</td>\n",
       "      <td>...</td>\n",
       "      <td>...</td>\n",
       "    </tr>\n",
       "    <tr>\n",
       "      <th>4995</th>\n",
       "      <td>4,996th</td>\n",
       "      <td>B+</td>\n",
       "      <td>Uras Benlioğlu</td>\n",
       "      <td>706</td>\n",
       "      <td>2072942</td>\n",
       "      <td>441202795</td>\n",
       "    </tr>\n",
       "    <tr>\n",
       "      <th>4996</th>\n",
       "      <td>4,997th</td>\n",
       "      <td>B+</td>\n",
       "      <td>HI-TECH MUSIC LTD</td>\n",
       "      <td>797</td>\n",
       "      <td>1055091</td>\n",
       "      <td>377331722</td>\n",
       "    </tr>\n",
       "    <tr>\n",
       "      <th>4997</th>\n",
       "      <td>4,998th</td>\n",
       "      <td>B+</td>\n",
       "      <td>Mastersaint</td>\n",
       "      <td>110</td>\n",
       "      <td>3265735</td>\n",
       "      <td>311758426</td>\n",
       "    </tr>\n",
       "    <tr>\n",
       "      <th>4998</th>\n",
       "      <td>4,999th</td>\n",
       "      <td>B+</td>\n",
       "      <td>Bruce McIntosh</td>\n",
       "      <td>3475</td>\n",
       "      <td>32990</td>\n",
       "      <td>14563764</td>\n",
       "    </tr>\n",
       "    <tr>\n",
       "      <th>4999</th>\n",
       "      <td>5,000th</td>\n",
       "      <td>B+</td>\n",
       "      <td>SehatAQUA</td>\n",
       "      <td>254</td>\n",
       "      <td>21172</td>\n",
       "      <td>73312511</td>\n",
       "    </tr>\n",
       "  </tbody>\n",
       "</table>\n",
       "<p>4995 rows × 6 columns</p>\n",
       "</div>"
      ],
      "text/plain": [
       "         Rank Grade           Channel name Video Uploads Subscribers  \\\n",
       "5         6th  A++              Movieclips         30243    17149705   \n",
       "6         7th  A++              netd müzik          8500    11373567   \n",
       "7         8th  A++   ABS-CBN Entertainment        100147    12149206   \n",
       "8         9th  A++         Ryan ToysReview          1140    16082927   \n",
       "9        10th  A++             Zee Marathi         74607     2841811   \n",
       "...       ...   ...                    ...           ...         ...   \n",
       "4995  4,996th   B+          Uras Benlioğlu           706     2072942   \n",
       "4996  4,997th   B+       HI-TECH MUSIC LTD           797     1055091   \n",
       "4997  4,998th   B+             Mastersaint           110     3265735   \n",
       "4998  4,999th   B+          Bruce McIntosh          3475       32990   \n",
       "4999  5,000th   B+               SehatAQUA           254       21172   \n",
       "\n",
       "      Video views  \n",
       "5     16618094724  \n",
       "6     23898730764  \n",
       "7     17202609850  \n",
       "8     24518098041  \n",
       "9      2591830307  \n",
       "...           ...  \n",
       "4995    441202795  \n",
       "4996    377331722  \n",
       "4997    311758426  \n",
       "4998     14563764  \n",
       "4999     73312511  \n",
       "\n",
       "[4995 rows x 6 columns]"
      ]
     },
     "execution_count": 6,
     "metadata": {},
     "output_type": "execute_result"
    }
   ],
   "source": [
    "data1.tail(-5)"
   ]
  },
  {
   "cell_type": "markdown",
   "id": "16688c02",
   "metadata": {},
   "source": [
    "# 3.shape of data"
   ]
  },
  {
   "cell_type": "code",
   "execution_count": 7,
   "id": "0a68af1d",
   "metadata": {},
   "outputs": [
    {
     "data": {
      "text/plain": [
       "(5000, 6)"
      ]
     },
     "execution_count": 7,
     "metadata": {},
     "output_type": "execute_result"
    }
   ],
   "source": [
    "data1.shape"
   ]
  },
  {
   "cell_type": "markdown",
   "id": "abb18c1f",
   "metadata": {},
   "source": [
    "# 4. information of data"
   ]
  },
  {
   "cell_type": "code",
   "execution_count": 8,
   "id": "e0422e29",
   "metadata": {},
   "outputs": [
    {
     "name": "stdout",
     "output_type": "stream",
     "text": [
      "<class 'pandas.core.frame.DataFrame'>\n",
      "RangeIndex: 5000 entries, 0 to 4999\n",
      "Data columns (total 6 columns):\n",
      " #   Column         Non-Null Count  Dtype \n",
      "---  ------         --------------  ----- \n",
      " 0   Rank           5000 non-null   object\n",
      " 1   Grade          5000 non-null   object\n",
      " 2   Channel name   5000 non-null   object\n",
      " 3   Video Uploads  5000 non-null   object\n",
      " 4   Subscribers    5000 non-null   object\n",
      " 5   Video views    5000 non-null   int64 \n",
      "dtypes: int64(1), object(5)\n",
      "memory usage: 234.5+ KB\n"
     ]
    }
   ],
   "source": [
    "data1.info()"
   ]
  },
  {
   "cell_type": "markdown",
   "id": "ab4c73c0",
   "metadata": {},
   "source": [
    "# 5.statistics of the data"
   ]
  },
  {
   "cell_type": "code",
   "execution_count": 9,
   "id": "8669c6f7",
   "metadata": {},
   "outputs": [],
   "source": [
    "pd.options.display.float_format='{:.2f}'.format"
   ]
  },
  {
   "cell_type": "code",
   "execution_count": 10,
   "id": "ec1f1ffd",
   "metadata": {},
   "outputs": [
    {
     "data": {
      "text/html": [
       "<div>\n",
       "<style scoped>\n",
       "    .dataframe tbody tr th:only-of-type {\n",
       "        vertical-align: middle;\n",
       "    }\n",
       "\n",
       "    .dataframe tbody tr th {\n",
       "        vertical-align: top;\n",
       "    }\n",
       "\n",
       "    .dataframe thead th {\n",
       "        text-align: right;\n",
       "    }\n",
       "</style>\n",
       "<table border=\"1\" class=\"dataframe\">\n",
       "  <thead>\n",
       "    <tr style=\"text-align: right;\">\n",
       "      <th></th>\n",
       "      <th>Video views</th>\n",
       "    </tr>\n",
       "  </thead>\n",
       "  <tbody>\n",
       "    <tr>\n",
       "      <th>count</th>\n",
       "      <td>5000.00</td>\n",
       "    </tr>\n",
       "    <tr>\n",
       "      <th>mean</th>\n",
       "      <td>1071449400.15</td>\n",
       "    </tr>\n",
       "    <tr>\n",
       "      <th>std</th>\n",
       "      <td>2003843972.12</td>\n",
       "    </tr>\n",
       "    <tr>\n",
       "      <th>min</th>\n",
       "      <td>75.00</td>\n",
       "    </tr>\n",
       "    <tr>\n",
       "      <th>25%</th>\n",
       "      <td>186232945.75</td>\n",
       "    </tr>\n",
       "    <tr>\n",
       "      <th>50%</th>\n",
       "      <td>482054780.00</td>\n",
       "    </tr>\n",
       "    <tr>\n",
       "      <th>75%</th>\n",
       "      <td>1124367826.75</td>\n",
       "    </tr>\n",
       "    <tr>\n",
       "      <th>max</th>\n",
       "      <td>47548839843.00</td>\n",
       "    </tr>\n",
       "  </tbody>\n",
       "</table>\n",
       "</div>"
      ],
      "text/plain": [
       "         Video views\n",
       "count        5000.00\n",
       "mean   1071449400.15\n",
       "std    2003843972.12\n",
       "min            75.00\n",
       "25%     186232945.75\n",
       "50%     482054780.00\n",
       "75%    1124367826.75\n",
       "max   47548839843.00"
      ]
     },
     "execution_count": 10,
     "metadata": {},
     "output_type": "execute_result"
    }
   ],
   "source": [
    "data1.describe()"
   ]
  },
  {
   "cell_type": "markdown",
   "id": "b9d2e1e4",
   "metadata": {},
   "source": [
    "# 6. Data Cleaning  (Replace '--'  to NaN)"
   ]
  },
  {
   "cell_type": "code",
   "execution_count": 11,
   "id": "3d43e0fe",
   "metadata": {},
   "outputs": [
    {
     "data": {
      "text/html": [
       "<div>\n",
       "<style scoped>\n",
       "    .dataframe tbody tr th:only-of-type {\n",
       "        vertical-align: middle;\n",
       "    }\n",
       "\n",
       "    .dataframe tbody tr th {\n",
       "        vertical-align: top;\n",
       "    }\n",
       "\n",
       "    .dataframe thead th {\n",
       "        text-align: right;\n",
       "    }\n",
       "</style>\n",
       "<table border=\"1\" class=\"dataframe\">\n",
       "  <thead>\n",
       "    <tr style=\"text-align: right;\">\n",
       "      <th></th>\n",
       "      <th>Rank</th>\n",
       "      <th>Grade</th>\n",
       "      <th>Channel name</th>\n",
       "      <th>Video Uploads</th>\n",
       "      <th>Subscribers</th>\n",
       "      <th>Video views</th>\n",
       "    </tr>\n",
       "  </thead>\n",
       "  <tbody>\n",
       "    <tr>\n",
       "      <th>17</th>\n",
       "      <td>18th</td>\n",
       "      <td>A+</td>\n",
       "      <td>Vlad and Nikita</td>\n",
       "      <td>53</td>\n",
       "      <td>--</td>\n",
       "      <td>1428274554</td>\n",
       "    </tr>\n",
       "    <tr>\n",
       "      <th>108</th>\n",
       "      <td>109th</td>\n",
       "      <td>A</td>\n",
       "      <td>BIGFUN</td>\n",
       "      <td>373</td>\n",
       "      <td>--</td>\n",
       "      <td>941376171</td>\n",
       "    </tr>\n",
       "    <tr>\n",
       "      <th>115</th>\n",
       "      <td>116th</td>\n",
       "      <td>A</td>\n",
       "      <td>Bee Kids Games - Children TV</td>\n",
       "      <td>740</td>\n",
       "      <td>--</td>\n",
       "      <td>414535723</td>\n",
       "    </tr>\n",
       "    <tr>\n",
       "      <th>142</th>\n",
       "      <td>143rd</td>\n",
       "      <td>A</td>\n",
       "      <td>ChiChi TV Siêu Nhân</td>\n",
       "      <td>421</td>\n",
       "      <td>--</td>\n",
       "      <td>2600394871</td>\n",
       "    </tr>\n",
       "    <tr>\n",
       "      <th>143</th>\n",
       "      <td>144th</td>\n",
       "      <td>A</td>\n",
       "      <td>MusicTalentNow</td>\n",
       "      <td>1487</td>\n",
       "      <td>--</td>\n",
       "      <td>3252752212</td>\n",
       "    </tr>\n",
       "    <tr>\n",
       "      <th>...</th>\n",
       "      <td>...</td>\n",
       "      <td>...</td>\n",
       "      <td>...</td>\n",
       "      <td>...</td>\n",
       "      <td>...</td>\n",
       "      <td>...</td>\n",
       "    </tr>\n",
       "    <tr>\n",
       "      <th>4941</th>\n",
       "      <td>4,942nd</td>\n",
       "      <td>B+</td>\n",
       "      <td>GMTV</td>\n",
       "      <td>183</td>\n",
       "      <td>--</td>\n",
       "      <td>127080542</td>\n",
       "    </tr>\n",
       "    <tr>\n",
       "      <th>4948</th>\n",
       "      <td>4,949th</td>\n",
       "      <td>B+</td>\n",
       "      <td>Keivon ToysReview</td>\n",
       "      <td>468</td>\n",
       "      <td>--</td>\n",
       "      <td>481568513</td>\n",
       "    </tr>\n",
       "    <tr>\n",
       "      <th>4956</th>\n",
       "      <td>4,957th</td>\n",
       "      <td>B+</td>\n",
       "      <td>CLICKNEWS</td>\n",
       "      <td>2661</td>\n",
       "      <td>--</td>\n",
       "      <td>139940815</td>\n",
       "    </tr>\n",
       "    <tr>\n",
       "      <th>4961</th>\n",
       "      <td>4,962nd</td>\n",
       "      <td>B+</td>\n",
       "      <td>ONE Championship</td>\n",
       "      <td>905</td>\n",
       "      <td>--</td>\n",
       "      <td>109836654</td>\n",
       "    </tr>\n",
       "    <tr>\n",
       "      <th>4990</th>\n",
       "      <td>4,991st</td>\n",
       "      <td>B+</td>\n",
       "      <td>Ho Ngoc Ha's Official Channel</td>\n",
       "      <td>208</td>\n",
       "      <td>--</td>\n",
       "      <td>127185704</td>\n",
       "    </tr>\n",
       "  </tbody>\n",
       "</table>\n",
       "<p>387 rows × 6 columns</p>\n",
       "</div>"
      ],
      "text/plain": [
       "         Rank Grade                   Channel name Video Uploads Subscribers  \\\n",
       "17       18th   A+                 Vlad and Nikita            53         --    \n",
       "108     109th    A                          BIGFUN           373         --    \n",
       "115     116th    A    Bee Kids Games - Children TV           740         --    \n",
       "142     143rd    A             ChiChi TV Siêu Nhân           421         --    \n",
       "143     144th    A                  MusicTalentNow          1487         --    \n",
       "...       ...   ...                            ...           ...         ...   \n",
       "4941  4,942nd   B+                            GMTV           183         --    \n",
       "4948  4,949th   B+               Keivon ToysReview           468         --    \n",
       "4956  4,957th   B+                       CLICKNEWS          2661         --    \n",
       "4961  4,962nd   B+                ONE Championship           905         --    \n",
       "4990  4,991st   B+   Ho Ngoc Ha's Official Channel           208         --    \n",
       "\n",
       "      Video views  \n",
       "17     1428274554  \n",
       "108     941376171  \n",
       "115     414535723  \n",
       "142    2600394871  \n",
       "143    3252752212  \n",
       "...           ...  \n",
       "4941    127080542  \n",
       "4948    481568513  \n",
       "4956    139940815  \n",
       "4961    109836654  \n",
       "4990    127185704  \n",
       "\n",
       "[387 rows x 6 columns]"
      ]
     },
     "execution_count": 11,
     "metadata": {},
     "output_type": "execute_result"
    }
   ],
   "source": [
    "data1[data1['Subscribers'].str.contains('--')]"
   ]
  },
  {
   "cell_type": "code",
   "execution_count": 12,
   "id": "eff4c34e",
   "metadata": {},
   "outputs": [],
   "source": [
    "data1=data1.replace('--',np.nan,regex=True)"
   ]
  },
  {
   "cell_type": "code",
   "execution_count": 13,
   "id": "a3733988",
   "metadata": {},
   "outputs": [
    {
     "data": {
      "text/html": [
       "<div>\n",
       "<style scoped>\n",
       "    .dataframe tbody tr th:only-of-type {\n",
       "        vertical-align: middle;\n",
       "    }\n",
       "\n",
       "    .dataframe tbody tr th {\n",
       "        vertical-align: top;\n",
       "    }\n",
       "\n",
       "    .dataframe thead th {\n",
       "        text-align: right;\n",
       "    }\n",
       "</style>\n",
       "<table border=\"1\" class=\"dataframe\">\n",
       "  <thead>\n",
       "    <tr style=\"text-align: right;\">\n",
       "      <th></th>\n",
       "      <th>Rank</th>\n",
       "      <th>Grade</th>\n",
       "      <th>Channel name</th>\n",
       "      <th>Video Uploads</th>\n",
       "      <th>Subscribers</th>\n",
       "      <th>Video views</th>\n",
       "    </tr>\n",
       "  </thead>\n",
       "  <tbody>\n",
       "    <tr>\n",
       "      <th>0</th>\n",
       "      <td>1st</td>\n",
       "      <td>A++</td>\n",
       "      <td>Zee TV</td>\n",
       "      <td>82757</td>\n",
       "      <td>18752951</td>\n",
       "      <td>20869786591</td>\n",
       "    </tr>\n",
       "    <tr>\n",
       "      <th>1</th>\n",
       "      <td>2nd</td>\n",
       "      <td>A++</td>\n",
       "      <td>T-Series</td>\n",
       "      <td>12661</td>\n",
       "      <td>61196302</td>\n",
       "      <td>47548839843</td>\n",
       "    </tr>\n",
       "    <tr>\n",
       "      <th>2</th>\n",
       "      <td>3rd</td>\n",
       "      <td>A++</td>\n",
       "      <td>Cocomelon - Nursery Rhymes</td>\n",
       "      <td>373</td>\n",
       "      <td>19238251</td>\n",
       "      <td>9793305082</td>\n",
       "    </tr>\n",
       "    <tr>\n",
       "      <th>3</th>\n",
       "      <td>4th</td>\n",
       "      <td>A++</td>\n",
       "      <td>SET India</td>\n",
       "      <td>27323</td>\n",
       "      <td>31180559</td>\n",
       "      <td>22675948293</td>\n",
       "    </tr>\n",
       "    <tr>\n",
       "      <th>4</th>\n",
       "      <td>5th</td>\n",
       "      <td>A++</td>\n",
       "      <td>WWE</td>\n",
       "      <td>36756</td>\n",
       "      <td>32852346</td>\n",
       "      <td>26273668433</td>\n",
       "    </tr>\n",
       "    <tr>\n",
       "      <th>5</th>\n",
       "      <td>6th</td>\n",
       "      <td>A++</td>\n",
       "      <td>Movieclips</td>\n",
       "      <td>30243</td>\n",
       "      <td>17149705</td>\n",
       "      <td>16618094724</td>\n",
       "    </tr>\n",
       "    <tr>\n",
       "      <th>6</th>\n",
       "      <td>7th</td>\n",
       "      <td>A++</td>\n",
       "      <td>netd müzik</td>\n",
       "      <td>8500</td>\n",
       "      <td>11373567</td>\n",
       "      <td>23898730764</td>\n",
       "    </tr>\n",
       "    <tr>\n",
       "      <th>7</th>\n",
       "      <td>8th</td>\n",
       "      <td>A++</td>\n",
       "      <td>ABS-CBN Entertainment</td>\n",
       "      <td>100147</td>\n",
       "      <td>12149206</td>\n",
       "      <td>17202609850</td>\n",
       "    </tr>\n",
       "    <tr>\n",
       "      <th>8</th>\n",
       "      <td>9th</td>\n",
       "      <td>A++</td>\n",
       "      <td>Ryan ToysReview</td>\n",
       "      <td>1140</td>\n",
       "      <td>16082927</td>\n",
       "      <td>24518098041</td>\n",
       "    </tr>\n",
       "    <tr>\n",
       "      <th>9</th>\n",
       "      <td>10th</td>\n",
       "      <td>A++</td>\n",
       "      <td>Zee Marathi</td>\n",
       "      <td>74607</td>\n",
       "      <td>2841811</td>\n",
       "      <td>2591830307</td>\n",
       "    </tr>\n",
       "    <tr>\n",
       "      <th>10</th>\n",
       "      <td>11th</td>\n",
       "      <td>A+</td>\n",
       "      <td>5-Minute Crafts</td>\n",
       "      <td>2085</td>\n",
       "      <td>33492951</td>\n",
       "      <td>8587520379</td>\n",
       "    </tr>\n",
       "    <tr>\n",
       "      <th>11</th>\n",
       "      <td>12th</td>\n",
       "      <td>A+</td>\n",
       "      <td>Canal KondZilla</td>\n",
       "      <td>822</td>\n",
       "      <td>39409726</td>\n",
       "      <td>19291034467</td>\n",
       "    </tr>\n",
       "    <tr>\n",
       "      <th>12</th>\n",
       "      <td>13th</td>\n",
       "      <td>A+</td>\n",
       "      <td>Like Nastya Vlog</td>\n",
       "      <td>150</td>\n",
       "      <td>7662886</td>\n",
       "      <td>2540099931</td>\n",
       "    </tr>\n",
       "    <tr>\n",
       "      <th>13</th>\n",
       "      <td>14th</td>\n",
       "      <td>A+</td>\n",
       "      <td>Ozuna</td>\n",
       "      <td>50</td>\n",
       "      <td>18824912</td>\n",
       "      <td>8727783225</td>\n",
       "    </tr>\n",
       "    <tr>\n",
       "      <th>14</th>\n",
       "      <td>15th</td>\n",
       "      <td>A+</td>\n",
       "      <td>Wave Music</td>\n",
       "      <td>16119</td>\n",
       "      <td>15899764</td>\n",
       "      <td>10989179147</td>\n",
       "    </tr>\n",
       "    <tr>\n",
       "      <th>15</th>\n",
       "      <td>16th</td>\n",
       "      <td>A+</td>\n",
       "      <td>Ch3Thailand</td>\n",
       "      <td>49239</td>\n",
       "      <td>11569723</td>\n",
       "      <td>9388600275</td>\n",
       "    </tr>\n",
       "    <tr>\n",
       "      <th>16</th>\n",
       "      <td>17th</td>\n",
       "      <td>A+</td>\n",
       "      <td>WORLDSTARHIPHOP</td>\n",
       "      <td>4778</td>\n",
       "      <td>15830098</td>\n",
       "      <td>11102158475</td>\n",
       "    </tr>\n",
       "    <tr>\n",
       "      <th>17</th>\n",
       "      <td>18th</td>\n",
       "      <td>A+</td>\n",
       "      <td>Vlad and Nikita</td>\n",
       "      <td>53</td>\n",
       "      <td>NaN</td>\n",
       "      <td>1428274554</td>\n",
       "    </tr>\n",
       "    <tr>\n",
       "      <th>18</th>\n",
       "      <td>19th</td>\n",
       "      <td>A+</td>\n",
       "      <td>Badabun</td>\n",
       "      <td>3060</td>\n",
       "      <td>23603062</td>\n",
       "      <td>5860444053</td>\n",
       "    </tr>\n",
       "    <tr>\n",
       "      <th>19</th>\n",
       "      <td>20th</td>\n",
       "      <td>A+</td>\n",
       "      <td>WorkpointOfficial</td>\n",
       "      <td>24287</td>\n",
       "      <td>17687229</td>\n",
       "      <td>14022189654</td>\n",
       "    </tr>\n",
       "  </tbody>\n",
       "</table>\n",
       "</div>"
      ],
      "text/plain": [
       "    Rank Grade                Channel name Video Uploads Subscribers  \\\n",
       "0    1st  A++                       Zee TV         82757    18752951   \n",
       "1    2nd  A++                     T-Series         12661    61196302   \n",
       "2    3rd  A++   Cocomelon - Nursery Rhymes           373    19238251   \n",
       "3    4th  A++                    SET India         27323    31180559   \n",
       "4    5th  A++                          WWE         36756    32852346   \n",
       "5    6th  A++                   Movieclips         30243    17149705   \n",
       "6    7th  A++                   netd müzik          8500    11373567   \n",
       "7    8th  A++        ABS-CBN Entertainment        100147    12149206   \n",
       "8    9th  A++              Ryan ToysReview          1140    16082927   \n",
       "9   10th  A++                  Zee Marathi         74607     2841811   \n",
       "10  11th   A+              5-Minute Crafts          2085    33492951   \n",
       "11  12th   A+              Canal KondZilla           822    39409726   \n",
       "12  13th   A+             Like Nastya Vlog           150     7662886   \n",
       "13  14th   A+                        Ozuna            50    18824912   \n",
       "14  15th   A+                   Wave Music         16119    15899764   \n",
       "15  16th   A+                  Ch3Thailand         49239    11569723   \n",
       "16  17th   A+              WORLDSTARHIPHOP          4778    15830098   \n",
       "17  18th   A+              Vlad and Nikita            53         NaN   \n",
       "18  19th   A+                      Badabun          3060    23603062   \n",
       "19  20th   A+            WorkpointOfficial         24287    17687229   \n",
       "\n",
       "    Video views  \n",
       "0   20869786591  \n",
       "1   47548839843  \n",
       "2    9793305082  \n",
       "3   22675948293  \n",
       "4   26273668433  \n",
       "5   16618094724  \n",
       "6   23898730764  \n",
       "7   17202609850  \n",
       "8   24518098041  \n",
       "9    2591830307  \n",
       "10   8587520379  \n",
       "11  19291034467  \n",
       "12   2540099931  \n",
       "13   8727783225  \n",
       "14  10989179147  \n",
       "15   9388600275  \n",
       "16  11102158475  \n",
       "17   1428274554  \n",
       "18   5860444053  \n",
       "19  14022189654  "
      ]
     },
     "execution_count": 13,
     "metadata": {},
     "output_type": "execute_result"
    }
   ],
   "source": [
    "data1.head(20)"
   ]
  },
  {
   "cell_type": "markdown",
   "id": "118906b1",
   "metadata": {},
   "source": [
    "# 7.check null values"
   ]
  },
  {
   "cell_type": "code",
   "execution_count": 14,
   "id": "c2bbb689",
   "metadata": {},
   "outputs": [
    {
     "data": {
      "text/plain": [
       "True"
      ]
     },
     "execution_count": 14,
     "metadata": {},
     "output_type": "execute_result"
    }
   ],
   "source": [
    "data1.isnull().values.any()"
   ]
  },
  {
   "cell_type": "code",
   "execution_count": 15,
   "id": "5c6d1d62",
   "metadata": {},
   "outputs": [
    {
     "data": {
      "text/plain": [
       "Rank               0\n",
       "Grade              0\n",
       "Channel name       0\n",
       "Video Uploads      6\n",
       "Subscribers      387\n",
       "Video views        0\n",
       "dtype: int64"
      ]
     },
     "execution_count": 15,
     "metadata": {},
     "output_type": "execute_result"
    }
   ],
   "source": [
    "data1.isnull().sum()"
   ]
  },
  {
   "cell_type": "code",
   "execution_count": 16,
   "id": "76995802",
   "metadata": {},
   "outputs": [
    {
     "data": {
      "text/plain": [
       "Rank            0.00\n",
       "Grade           0.00\n",
       "Channel name    0.00\n",
       "Video Uploads   0.12\n",
       "Subscribers     7.74\n",
       "Video views     0.00\n",
       "dtype: float64"
      ]
     },
     "execution_count": 16,
     "metadata": {},
     "output_type": "execute_result"
    }
   ],
   "source": [
    "data1.isnull().sum()*100/ len(data1)"
   ]
  },
  {
   "cell_type": "code",
   "execution_count": 17,
   "id": "8eb16c44",
   "metadata": {},
   "outputs": [
    {
     "data": {
      "text/plain": [
       "<Axes: >"
      ]
     },
     "execution_count": 17,
     "metadata": {},
     "output_type": "execute_result"
    },
    {
     "data": {
      "image/png": "[encoded data removed]",
      "text/plain": [
       "<Figure size 640x480 with 2 Axes>"
      ]
     },
     "metadata": {},
     "output_type": "display_data"
    }
   ],
   "source": [
    "sns.heatmap(data1.isnull())"
   ]
  },
  {
   "cell_type": "code",
   "execution_count": 18,
   "id": "241227dd",
   "metadata": {},
   "outputs": [],
   "source": [
    "data1.dropna(axis=0,inplace=True)"
   ]
  },
  {
   "cell_type": "code",
   "execution_count": 19,
   "id": "e45b6489",
   "metadata": {},
   "outputs": [
    {
     "data": {
      "text/plain": [
       "<Axes: >"
      ]
     },
     "execution_count": 19,
     "metadata": {},
     "output_type": "execute_result"
    },
    {
     "data": {
      "image/png": "[encoded data removed]",
      "text/plain": [
       "<Figure size 640x480 with 2 Axes>"
      ]
     },
     "metadata": {},
     "output_type": "display_data"
    }
   ],
   "source": [
    "sns.heatmap(data.isnull())"
   ]
  },
  {
   "cell_type": "markdown",
   "id": "3ca9b2b6",
   "metadata": {},
   "source": [
    "# 8.clean rank columns"
   ]
  },
  {
   "cell_type": "code",
   "execution_count": 20,
   "id": "91060bdd",
   "metadata": {},
   "outputs": [
    {
     "data": {
      "text/html": [
       "<div>\n",
       "<style scoped>\n",
       "    .dataframe tbody tr th:only-of-type {\n",
       "        vertical-align: middle;\n",
       "    }\n",
       "\n",
       "    .dataframe tbody tr th {\n",
       "        vertical-align: top;\n",
       "    }\n",
       "\n",
       "    .dataframe thead th {\n",
       "        text-align: right;\n",
       "    }\n",
       "</style>\n",
       "<table border=\"1\" class=\"dataframe\">\n",
       "  <thead>\n",
       "    <tr style=\"text-align: right;\">\n",
       "      <th></th>\n",
       "      <th>Rank</th>\n",
       "      <th>Grade</th>\n",
       "      <th>Channel name</th>\n",
       "      <th>Video Uploads</th>\n",
       "      <th>Subscribers</th>\n",
       "      <th>Video views</th>\n",
       "    </tr>\n",
       "  </thead>\n",
       "  <tbody>\n",
       "    <tr>\n",
       "      <th>0</th>\n",
       "      <td>1st</td>\n",
       "      <td>A++</td>\n",
       "      <td>Zee TV</td>\n",
       "      <td>82757</td>\n",
       "      <td>18752951</td>\n",
       "      <td>20869786591</td>\n",
       "    </tr>\n",
       "    <tr>\n",
       "      <th>1</th>\n",
       "      <td>2nd</td>\n",
       "      <td>A++</td>\n",
       "      <td>T-Series</td>\n",
       "      <td>12661</td>\n",
       "      <td>61196302</td>\n",
       "      <td>47548839843</td>\n",
       "    </tr>\n",
       "    <tr>\n",
       "      <th>2</th>\n",
       "      <td>3rd</td>\n",
       "      <td>A++</td>\n",
       "      <td>Cocomelon - Nursery Rhymes</td>\n",
       "      <td>373</td>\n",
       "      <td>19238251</td>\n",
       "      <td>9793305082</td>\n",
       "    </tr>\n",
       "    <tr>\n",
       "      <th>3</th>\n",
       "      <td>4th</td>\n",
       "      <td>A++</td>\n",
       "      <td>SET India</td>\n",
       "      <td>27323</td>\n",
       "      <td>31180559</td>\n",
       "      <td>22675948293</td>\n",
       "    </tr>\n",
       "    <tr>\n",
       "      <th>4</th>\n",
       "      <td>5th</td>\n",
       "      <td>A++</td>\n",
       "      <td>WWE</td>\n",
       "      <td>36756</td>\n",
       "      <td>32852346</td>\n",
       "      <td>26273668433</td>\n",
       "    </tr>\n",
       "  </tbody>\n",
       "</table>\n",
       "</div>"
      ],
      "text/plain": [
       "  Rank Grade                Channel name Video Uploads Subscribers  \\\n",
       "0  1st  A++                       Zee TV         82757    18752951   \n",
       "1  2nd  A++                     T-Series         12661    61196302   \n",
       "2  3rd  A++   Cocomelon - Nursery Rhymes           373    19238251   \n",
       "3  4th  A++                    SET India         27323    31180559   \n",
       "4  5th  A++                          WWE         36756    32852346   \n",
       "\n",
       "   Video views  \n",
       "0  20869786591  \n",
       "1  47548839843  \n",
       "2   9793305082  \n",
       "3  22675948293  \n",
       "4  26273668433  "
      ]
     },
     "execution_count": 20,
     "metadata": {},
     "output_type": "execute_result"
    }
   ],
   "source": [
    "data1.head()\n",
    "# delete the 'th'"
   ]
  },
  {
   "cell_type": "code",
   "execution_count": 21,
   "id": "13a0afd5",
   "metadata": {},
   "outputs": [
    {
     "data": {
      "text/html": [
       "<div>\n",
       "<style scoped>\n",
       "    .dataframe tbody tr th:only-of-type {\n",
       "        vertical-align: middle;\n",
       "    }\n",
       "\n",
       "    .dataframe tbody tr th {\n",
       "        vertical-align: top;\n",
       "    }\n",
       "\n",
       "    .dataframe thead th {\n",
       "        text-align: right;\n",
       "    }\n",
       "</style>\n",
       "<table border=\"1\" class=\"dataframe\">\n",
       "  <thead>\n",
       "    <tr style=\"text-align: right;\">\n",
       "      <th></th>\n",
       "      <th>Rank</th>\n",
       "      <th>Grade</th>\n",
       "      <th>Channel name</th>\n",
       "      <th>Video Uploads</th>\n",
       "      <th>Subscribers</th>\n",
       "      <th>Video views</th>\n",
       "    </tr>\n",
       "  </thead>\n",
       "  <tbody>\n",
       "    <tr>\n",
       "      <th>4995</th>\n",
       "      <td>4,996th</td>\n",
       "      <td>B+</td>\n",
       "      <td>Uras Benlioğlu</td>\n",
       "      <td>706</td>\n",
       "      <td>2072942</td>\n",
       "      <td>441202795</td>\n",
       "    </tr>\n",
       "    <tr>\n",
       "      <th>4996</th>\n",
       "      <td>4,997th</td>\n",
       "      <td>B+</td>\n",
       "      <td>HI-TECH MUSIC LTD</td>\n",
       "      <td>797</td>\n",
       "      <td>1055091</td>\n",
       "      <td>377331722</td>\n",
       "    </tr>\n",
       "    <tr>\n",
       "      <th>4997</th>\n",
       "      <td>4,998th</td>\n",
       "      <td>B+</td>\n",
       "      <td>Mastersaint</td>\n",
       "      <td>110</td>\n",
       "      <td>3265735</td>\n",
       "      <td>311758426</td>\n",
       "    </tr>\n",
       "    <tr>\n",
       "      <th>4998</th>\n",
       "      <td>4,999th</td>\n",
       "      <td>B+</td>\n",
       "      <td>Bruce McIntosh</td>\n",
       "      <td>3475</td>\n",
       "      <td>32990</td>\n",
       "      <td>14563764</td>\n",
       "    </tr>\n",
       "    <tr>\n",
       "      <th>4999</th>\n",
       "      <td>5,000th</td>\n",
       "      <td>B+</td>\n",
       "      <td>SehatAQUA</td>\n",
       "      <td>254</td>\n",
       "      <td>21172</td>\n",
       "      <td>73312511</td>\n",
       "    </tr>\n",
       "  </tbody>\n",
       "</table>\n",
       "</div>"
      ],
      "text/plain": [
       "         Rank Grade       Channel name Video Uploads Subscribers  Video views\n",
       "4995  4,996th   B+      Uras Benlioğlu           706     2072942    441202795\n",
       "4996  4,997th   B+   HI-TECH MUSIC LTD           797     1055091    377331722\n",
       "4997  4,998th   B+         Mastersaint           110     3265735    311758426\n",
       "4998  4,999th   B+      Bruce McIntosh          3475       32990     14563764\n",
       "4999  5,000th   B+           SehatAQUA           254       21172     73312511"
      ]
     },
     "execution_count": 21,
     "metadata": {},
     "output_type": "execute_result"
    }
   ],
   "source": [
    "data1.tail()\n",
    "# delete the ','"
   ]
  },
  {
   "cell_type": "code",
   "execution_count": 22,
   "id": "8af5050b",
   "metadata": {},
   "outputs": [],
   "source": [
    "data1['Rank']=data1['Rank'].str[0:-2]"
   ]
  },
  {
   "cell_type": "code",
   "execution_count": 23,
   "id": "88f28917",
   "metadata": {},
   "outputs": [
    {
     "data": {
      "text/html": [
       "<div>\n",
       "<style scoped>\n",
       "    .dataframe tbody tr th:only-of-type {\n",
       "        vertical-align: middle;\n",
       "    }\n",
       "\n",
       "    .dataframe tbody tr th {\n",
       "        vertical-align: top;\n",
       "    }\n",
       "\n",
       "    .dataframe thead th {\n",
       "        text-align: right;\n",
       "    }\n",
       "</style>\n",
       "<table border=\"1\" class=\"dataframe\">\n",
       "  <thead>\n",
       "    <tr style=\"text-align: right;\">\n",
       "      <th></th>\n",
       "      <th>Rank</th>\n",
       "      <th>Grade</th>\n",
       "      <th>Channel name</th>\n",
       "      <th>Video Uploads</th>\n",
       "      <th>Subscribers</th>\n",
       "      <th>Video views</th>\n",
       "    </tr>\n",
       "  </thead>\n",
       "  <tbody>\n",
       "    <tr>\n",
       "      <th>0</th>\n",
       "      <td>1</td>\n",
       "      <td>A++</td>\n",
       "      <td>Zee TV</td>\n",
       "      <td>82757</td>\n",
       "      <td>18752951</td>\n",
       "      <td>20869786591</td>\n",
       "    </tr>\n",
       "    <tr>\n",
       "      <th>1</th>\n",
       "      <td>2</td>\n",
       "      <td>A++</td>\n",
       "      <td>T-Series</td>\n",
       "      <td>12661</td>\n",
       "      <td>61196302</td>\n",
       "      <td>47548839843</td>\n",
       "    </tr>\n",
       "    <tr>\n",
       "      <th>2</th>\n",
       "      <td>3</td>\n",
       "      <td>A++</td>\n",
       "      <td>Cocomelon - Nursery Rhymes</td>\n",
       "      <td>373</td>\n",
       "      <td>19238251</td>\n",
       "      <td>9793305082</td>\n",
       "    </tr>\n",
       "    <tr>\n",
       "      <th>3</th>\n",
       "      <td>4</td>\n",
       "      <td>A++</td>\n",
       "      <td>SET India</td>\n",
       "      <td>27323</td>\n",
       "      <td>31180559</td>\n",
       "      <td>22675948293</td>\n",
       "    </tr>\n",
       "    <tr>\n",
       "      <th>4</th>\n",
       "      <td>5</td>\n",
       "      <td>A++</td>\n",
       "      <td>WWE</td>\n",
       "      <td>36756</td>\n",
       "      <td>32852346</td>\n",
       "      <td>26273668433</td>\n",
       "    </tr>\n",
       "    <tr>\n",
       "      <th>...</th>\n",
       "      <td>...</td>\n",
       "      <td>...</td>\n",
       "      <td>...</td>\n",
       "      <td>...</td>\n",
       "      <td>...</td>\n",
       "      <td>...</td>\n",
       "    </tr>\n",
       "    <tr>\n",
       "      <th>4995</th>\n",
       "      <td>4,996</td>\n",
       "      <td>B+</td>\n",
       "      <td>Uras Benlioğlu</td>\n",
       "      <td>706</td>\n",
       "      <td>2072942</td>\n",
       "      <td>441202795</td>\n",
       "    </tr>\n",
       "    <tr>\n",
       "      <th>4996</th>\n",
       "      <td>4,997</td>\n",
       "      <td>B+</td>\n",
       "      <td>HI-TECH MUSIC LTD</td>\n",
       "      <td>797</td>\n",
       "      <td>1055091</td>\n",
       "      <td>377331722</td>\n",
       "    </tr>\n",
       "    <tr>\n",
       "      <th>4997</th>\n",
       "      <td>4,998</td>\n",
       "      <td>B+</td>\n",
       "      <td>Mastersaint</td>\n",
       "      <td>110</td>\n",
       "      <td>3265735</td>\n",
       "      <td>311758426</td>\n",
       "    </tr>\n",
       "    <tr>\n",
       "      <th>4998</th>\n",
       "      <td>4,999</td>\n",
       "      <td>B+</td>\n",
       "      <td>Bruce McIntosh</td>\n",
       "      <td>3475</td>\n",
       "      <td>32990</td>\n",
       "      <td>14563764</td>\n",
       "    </tr>\n",
       "    <tr>\n",
       "      <th>4999</th>\n",
       "      <td>5,000</td>\n",
       "      <td>B+</td>\n",
       "      <td>SehatAQUA</td>\n",
       "      <td>254</td>\n",
       "      <td>21172</td>\n",
       "      <td>73312511</td>\n",
       "    </tr>\n",
       "  </tbody>\n",
       "</table>\n",
       "<p>4610 rows × 6 columns</p>\n",
       "</div>"
      ],
      "text/plain": [
       "       Rank Grade                Channel name Video Uploads Subscribers  \\\n",
       "0         1  A++                       Zee TV         82757    18752951   \n",
       "1         2  A++                     T-Series         12661    61196302   \n",
       "2         3  A++   Cocomelon - Nursery Rhymes           373    19238251   \n",
       "3         4  A++                    SET India         27323    31180559   \n",
       "4         5  A++                          WWE         36756    32852346   \n",
       "...     ...   ...                         ...           ...         ...   \n",
       "4995  4,996   B+               Uras Benlioğlu           706     2072942   \n",
       "4996  4,997   B+            HI-TECH MUSIC LTD           797     1055091   \n",
       "4997  4,998   B+                  Mastersaint           110     3265735   \n",
       "4998  4,999   B+               Bruce McIntosh          3475       32990   \n",
       "4999  5,000   B+                    SehatAQUA           254       21172   \n",
       "\n",
       "      Video views  \n",
       "0     20869786591  \n",
       "1     47548839843  \n",
       "2      9793305082  \n",
       "3     22675948293  \n",
       "4     26273668433  \n",
       "...           ...  \n",
       "4995    441202795  \n",
       "4996    377331722  \n",
       "4997    311758426  \n",
       "4998     14563764  \n",
       "4999     73312511  \n",
       "\n",
       "[4610 rows x 6 columns]"
      ]
     },
     "execution_count": 23,
     "metadata": {},
     "output_type": "execute_result"
    }
   ],
   "source": [
    "data1"
   ]
  },
  {
   "cell_type": "code",
   "execution_count": 24,
   "id": "4d011ab8",
   "metadata": {},
   "outputs": [],
   "source": [
    "data1['Rank']=data1['Rank'].str.replace(',','')"
   ]
  },
  {
   "cell_type": "code",
   "execution_count": 25,
   "id": "fa62467c",
   "metadata": {},
   "outputs": [
    {
     "data": {
      "text/html": [
       "<div>\n",
       "<style scoped>\n",
       "    .dataframe tbody tr th:only-of-type {\n",
       "        vertical-align: middle;\n",
       "    }\n",
       "\n",
       "    .dataframe tbody tr th {\n",
       "        vertical-align: top;\n",
       "    }\n",
       "\n",
       "    .dataframe thead th {\n",
       "        text-align: right;\n",
       "    }\n",
       "</style>\n",
       "<table border=\"1\" class=\"dataframe\">\n",
       "  <thead>\n",
       "    <tr style=\"text-align: right;\">\n",
       "      <th></th>\n",
       "      <th>Rank</th>\n",
       "      <th>Grade</th>\n",
       "      <th>Channel name</th>\n",
       "      <th>Video Uploads</th>\n",
       "      <th>Subscribers</th>\n",
       "      <th>Video views</th>\n",
       "    </tr>\n",
       "  </thead>\n",
       "  <tbody>\n",
       "    <tr>\n",
       "      <th>4995</th>\n",
       "      <td>4996</td>\n",
       "      <td>B+</td>\n",
       "      <td>Uras Benlioğlu</td>\n",
       "      <td>706</td>\n",
       "      <td>2072942</td>\n",
       "      <td>441202795</td>\n",
       "    </tr>\n",
       "    <tr>\n",
       "      <th>4996</th>\n",
       "      <td>4997</td>\n",
       "      <td>B+</td>\n",
       "      <td>HI-TECH MUSIC LTD</td>\n",
       "      <td>797</td>\n",
       "      <td>1055091</td>\n",
       "      <td>377331722</td>\n",
       "    </tr>\n",
       "    <tr>\n",
       "      <th>4997</th>\n",
       "      <td>4998</td>\n",
       "      <td>B+</td>\n",
       "      <td>Mastersaint</td>\n",
       "      <td>110</td>\n",
       "      <td>3265735</td>\n",
       "      <td>311758426</td>\n",
       "    </tr>\n",
       "    <tr>\n",
       "      <th>4998</th>\n",
       "      <td>4999</td>\n",
       "      <td>B+</td>\n",
       "      <td>Bruce McIntosh</td>\n",
       "      <td>3475</td>\n",
       "      <td>32990</td>\n",
       "      <td>14563764</td>\n",
       "    </tr>\n",
       "    <tr>\n",
       "      <th>4999</th>\n",
       "      <td>5000</td>\n",
       "      <td>B+</td>\n",
       "      <td>SehatAQUA</td>\n",
       "      <td>254</td>\n",
       "      <td>21172</td>\n",
       "      <td>73312511</td>\n",
       "    </tr>\n",
       "  </tbody>\n",
       "</table>\n",
       "</div>"
      ],
      "text/plain": [
       "      Rank Grade       Channel name Video Uploads Subscribers  Video views\n",
       "4995  4996   B+      Uras Benlioğlu           706     2072942    441202795\n",
       "4996  4997   B+   HI-TECH MUSIC LTD           797     1055091    377331722\n",
       "4997  4998   B+         Mastersaint           110     3265735    311758426\n",
       "4998  4999   B+      Bruce McIntosh          3475       32990     14563764\n",
       "4999  5000   B+           SehatAQUA           254       21172     73312511"
      ]
     },
     "execution_count": 25,
     "metadata": {},
     "output_type": "execute_result"
    }
   ],
   "source": [
    "data1.tail()"
   ]
  },
  {
   "cell_type": "code",
   "execution_count": 26,
   "id": "42075dc3",
   "metadata": {},
   "outputs": [
    {
     "data": {
      "text/plain": [
       "dtype('O')"
      ]
     },
     "execution_count": 26,
     "metadata": {},
     "output_type": "execute_result"
    }
   ],
   "source": [
    "data1['Rank'].dtype"
   ]
  },
  {
   "cell_type": "code",
   "execution_count": 27,
   "id": "0c0d844b",
   "metadata": {},
   "outputs": [],
   "source": [
    "data1['Rank']=data1['Rank'].astype(int)"
   ]
  },
  {
   "cell_type": "code",
   "execution_count": 28,
   "id": "18a60dbf",
   "metadata": {},
   "outputs": [
    {
     "name": "stdout",
     "output_type": "stream",
     "text": [
      "<class 'pandas.core.frame.DataFrame'>\n",
      "Int64Index: 4610 entries, 0 to 4999\n",
      "Data columns (total 6 columns):\n",
      " #   Column         Non-Null Count  Dtype \n",
      "---  ------         --------------  ----- \n",
      " 0   Rank           4610 non-null   int32 \n",
      " 1   Grade          4610 non-null   object\n",
      " 2   Channel name   4610 non-null   object\n",
      " 3   Video Uploads  4610 non-null   object\n",
      " 4   Subscribers    4610 non-null   object\n",
      " 5   Video views    4610 non-null   int64 \n",
      "dtypes: int32(1), int64(1), object(4)\n",
      "memory usage: 234.1+ KB\n"
     ]
    }
   ],
   "source": [
    "data1.info()"
   ]
  },
  {
   "cell_type": "markdown",
   "id": "6042ad6a",
   "metadata": {},
   "source": [
    "# 9.Data cleaning(video uploads and subscribers)"
   ]
  },
  {
   "cell_type": "code",
   "execution_count": 29,
   "id": "435674a9",
   "metadata": {},
   "outputs": [
    {
     "data": {
      "text/html": [
       "<div>\n",
       "<style scoped>\n",
       "    .dataframe tbody tr th:only-of-type {\n",
       "        vertical-align: middle;\n",
       "    }\n",
       "\n",
       "    .dataframe tbody tr th {\n",
       "        vertical-align: top;\n",
       "    }\n",
       "\n",
       "    .dataframe thead th {\n",
       "        text-align: right;\n",
       "    }\n",
       "</style>\n",
       "<table border=\"1\" class=\"dataframe\">\n",
       "  <thead>\n",
       "    <tr style=\"text-align: right;\">\n",
       "      <th></th>\n",
       "      <th>Rank</th>\n",
       "      <th>Grade</th>\n",
       "      <th>Channel name</th>\n",
       "      <th>Video Uploads</th>\n",
       "      <th>Subscribers</th>\n",
       "      <th>Video views</th>\n",
       "    </tr>\n",
       "  </thead>\n",
       "  <tbody>\n",
       "    <tr>\n",
       "      <th>0</th>\n",
       "      <td>1</td>\n",
       "      <td>A++</td>\n",
       "      <td>Zee TV</td>\n",
       "      <td>82757</td>\n",
       "      <td>18752951</td>\n",
       "      <td>20869786591</td>\n",
       "    </tr>\n",
       "    <tr>\n",
       "      <th>1</th>\n",
       "      <td>2</td>\n",
       "      <td>A++</td>\n",
       "      <td>T-Series</td>\n",
       "      <td>12661</td>\n",
       "      <td>61196302</td>\n",
       "      <td>47548839843</td>\n",
       "    </tr>\n",
       "  </tbody>\n",
       "</table>\n",
       "</div>"
      ],
      "text/plain": [
       "   Rank Grade Channel name Video Uploads Subscribers  Video views\n",
       "0     1  A++        Zee TV         82757    18752951  20869786591\n",
       "1     2  A++      T-Series         12661    61196302  47548839843"
      ]
     },
     "execution_count": 29,
     "metadata": {},
     "output_type": "execute_result"
    }
   ],
   "source": [
    "data1.head(2)"
   ]
  },
  {
   "cell_type": "code",
   "execution_count": 30,
   "id": "3d8bc5e3",
   "metadata": {
    "scrolled": true
   },
   "outputs": [
    {
     "data": {
      "text/plain": [
       "Rank              int32\n",
       "Grade            object\n",
       "Channel name     object\n",
       "Video Uploads    object\n",
       "Subscribers      object\n",
       "Video views       int64\n",
       "dtype: object"
      ]
     },
     "execution_count": 30,
     "metadata": {},
     "output_type": "execute_result"
    }
   ],
   "source": [
    "data1.dtypes"
   ]
  },
  {
   "cell_type": "code",
   "execution_count": 31,
   "id": "49c4a488",
   "metadata": {},
   "outputs": [],
   "source": [
    "# change the datatypes of both the columns two to int\n",
    "data1['Video Uploads']=data1['Video Uploads'].astype(int)"
   ]
  },
  {
   "cell_type": "code",
   "execution_count": 32,
   "id": "b5fc0fb4",
   "metadata": {},
   "outputs": [],
   "source": [
    "data1['Subscribers']=data1['Subscribers'].astype(int)"
   ]
  },
  {
   "cell_type": "code",
   "execution_count": 33,
   "id": "d113985c",
   "metadata": {},
   "outputs": [
    {
     "data": {
      "text/plain": [
       "Rank              int32\n",
       "Grade            object\n",
       "Channel name     object\n",
       "Video Uploads     int32\n",
       "Subscribers       int32\n",
       "Video views       int64\n",
       "dtype: object"
      ]
     },
     "execution_count": 33,
     "metadata": {},
     "output_type": "execute_result"
    }
   ],
   "source": [
    "data1.dtypes"
   ]
  },
  {
   "cell_type": "markdown",
   "id": "b4210cb8",
   "metadata": {},
   "source": [
    "# 10.data cleaning[Grade column]"
   ]
  },
  {
   "cell_type": "code",
   "execution_count": 34,
   "id": "6d51cc00",
   "metadata": {},
   "outputs": [
    {
     "data": {
      "text/html": [
       "<div>\n",
       "<style scoped>\n",
       "    .dataframe tbody tr th:only-of-type {\n",
       "        vertical-align: middle;\n",
       "    }\n",
       "\n",
       "    .dataframe tbody tr th {\n",
       "        vertical-align: top;\n",
       "    }\n",
       "\n",
       "    .dataframe thead th {\n",
       "        text-align: right;\n",
       "    }\n",
       "</style>\n",
       "<table border=\"1\" class=\"dataframe\">\n",
       "  <thead>\n",
       "    <tr style=\"text-align: right;\">\n",
       "      <th></th>\n",
       "      <th>Rank</th>\n",
       "      <th>Grade</th>\n",
       "      <th>Channel name</th>\n",
       "      <th>Video Uploads</th>\n",
       "      <th>Subscribers</th>\n",
       "      <th>Video views</th>\n",
       "    </tr>\n",
       "  </thead>\n",
       "  <tbody>\n",
       "    <tr>\n",
       "      <th>0</th>\n",
       "      <td>1</td>\n",
       "      <td>A++</td>\n",
       "      <td>Zee TV</td>\n",
       "      <td>82757</td>\n",
       "      <td>18752951</td>\n",
       "      <td>20869786591</td>\n",
       "    </tr>\n",
       "    <tr>\n",
       "      <th>1</th>\n",
       "      <td>2</td>\n",
       "      <td>A++</td>\n",
       "      <td>T-Series</td>\n",
       "      <td>12661</td>\n",
       "      <td>61196302</td>\n",
       "      <td>47548839843</td>\n",
       "    </tr>\n",
       "  </tbody>\n",
       "</table>\n",
       "</div>"
      ],
      "text/plain": [
       "   Rank Grade Channel name  Video Uploads  Subscribers  Video views\n",
       "0     1  A++        Zee TV          82757     18752951  20869786591\n",
       "1     2  A++      T-Series          12661     61196302  47548839843"
      ]
     },
     "execution_count": 34,
     "metadata": {},
     "output_type": "execute_result"
    }
   ],
   "source": [
    "data1.head(2)"
   ]
  },
  {
   "cell_type": "code",
   "execution_count": 35,
   "id": "a27121b8",
   "metadata": {},
   "outputs": [
    {
     "data": {
      "text/plain": [
       "array(['A++ ', 'A+ ', 'A ', 'A- ', 'B+ '], dtype=object)"
      ]
     },
     "execution_count": 35,
     "metadata": {},
     "output_type": "execute_result"
    }
   ],
   "source": [
    "data1['Grade'].unique()"
   ]
  },
  {
   "cell_type": "code",
   "execution_count": 36,
   "id": "407a7940",
   "metadata": {},
   "outputs": [],
   "source": [
    "data1['Grade']=data1['Grade'].map({'A++ ':5,'A+ ':4,'A ':3,'A- ':2,'B+ ':1})"
   ]
  },
  {
   "cell_type": "code",
   "execution_count": 37,
   "id": "c6ee92be",
   "metadata": {},
   "outputs": [
    {
     "data": {
      "text/plain": [
       "array([5, 4, 3, 2, 1], dtype=int64)"
      ]
     },
     "execution_count": 37,
     "metadata": {},
     "output_type": "execute_result"
    }
   ],
   "source": [
    "data1['Grade'].unique()"
   ]
  },
  {
   "cell_type": "code",
   "execution_count": 38,
   "id": "6a6efc99",
   "metadata": {},
   "outputs": [
    {
     "data": {
      "text/plain": [
       "Rank              int32\n",
       "Grade             int64\n",
       "Channel name     object\n",
       "Video Uploads     int32\n",
       "Subscribers       int32\n",
       "Video views       int64\n",
       "dtype: object"
      ]
     },
     "execution_count": 38,
     "metadata": {},
     "output_type": "execute_result"
    }
   ],
   "source": [
    "data1.dtypes"
   ]
  },
  {
   "cell_type": "markdown",
   "id": "9eda1833",
   "metadata": {},
   "source": [
    "# 11. find avg views for each columns"
   ]
  },
  {
   "cell_type": "code",
   "execution_count": 39,
   "id": "b807396d",
   "metadata": {},
   "outputs": [
    {
     "data": {
      "text/plain": [
       "Index(['Rank', 'Grade', 'Channel name', 'Video Uploads', 'Subscribers',\n",
       "       'Video views'],\n",
       "      dtype='object')"
      ]
     },
     "execution_count": 39,
     "metadata": {},
     "output_type": "execute_result"
    }
   ],
   "source": [
    "data.columns"
   ]
  },
  {
   "cell_type": "code",
   "execution_count": 40,
   "id": "086198b5",
   "metadata": {},
   "outputs": [],
   "source": [
    "data1['Avg_view']=data1['Video views']/data1['Video Uploads']"
   ]
  },
  {
   "cell_type": "code",
   "execution_count": 41,
   "id": "41f5e37d",
   "metadata": {},
   "outputs": [
    {
     "data": {
      "text/html": [
       "<div>\n",
       "<style scoped>\n",
       "    .dataframe tbody tr th:only-of-type {\n",
       "        vertical-align: middle;\n",
       "    }\n",
       "\n",
       "    .dataframe tbody tr th {\n",
       "        vertical-align: top;\n",
       "    }\n",
       "\n",
       "    .dataframe thead th {\n",
       "        text-align: right;\n",
       "    }\n",
       "</style>\n",
       "<table border=\"1\" class=\"dataframe\">\n",
       "  <thead>\n",
       "    <tr style=\"text-align: right;\">\n",
       "      <th></th>\n",
       "      <th>Rank</th>\n",
       "      <th>Grade</th>\n",
       "      <th>Channel name</th>\n",
       "      <th>Video Uploads</th>\n",
       "      <th>Subscribers</th>\n",
       "      <th>Video views</th>\n",
       "      <th>Avg_view</th>\n",
       "    </tr>\n",
       "  </thead>\n",
       "  <tbody>\n",
       "    <tr>\n",
       "      <th>0</th>\n",
       "      <td>1</td>\n",
       "      <td>5</td>\n",
       "      <td>Zee TV</td>\n",
       "      <td>82757</td>\n",
       "      <td>18752951</td>\n",
       "      <td>20869786591</td>\n",
       "      <td>252181.53</td>\n",
       "    </tr>\n",
       "    <tr>\n",
       "      <th>1</th>\n",
       "      <td>2</td>\n",
       "      <td>5</td>\n",
       "      <td>T-Series</td>\n",
       "      <td>12661</td>\n",
       "      <td>61196302</td>\n",
       "      <td>47548839843</td>\n",
       "      <td>3755535.89</td>\n",
       "    </tr>\n",
       "    <tr>\n",
       "      <th>2</th>\n",
       "      <td>3</td>\n",
       "      <td>5</td>\n",
       "      <td>Cocomelon - Nursery Rhymes</td>\n",
       "      <td>373</td>\n",
       "      <td>19238251</td>\n",
       "      <td>9793305082</td>\n",
       "      <td>26255509.60</td>\n",
       "    </tr>\n",
       "    <tr>\n",
       "      <th>3</th>\n",
       "      <td>4</td>\n",
       "      <td>5</td>\n",
       "      <td>SET India</td>\n",
       "      <td>27323</td>\n",
       "      <td>31180559</td>\n",
       "      <td>22675948293</td>\n",
       "      <td>829921.62</td>\n",
       "    </tr>\n",
       "    <tr>\n",
       "      <th>4</th>\n",
       "      <td>5</td>\n",
       "      <td>5</td>\n",
       "      <td>WWE</td>\n",
       "      <td>36756</td>\n",
       "      <td>32852346</td>\n",
       "      <td>26273668433</td>\n",
       "      <td>714813.05</td>\n",
       "    </tr>\n",
       "  </tbody>\n",
       "</table>\n",
       "</div>"
      ],
      "text/plain": [
       "   Rank  Grade                Channel name  Video Uploads  Subscribers  \\\n",
       "0     1      5                      Zee TV          82757     18752951   \n",
       "1     2      5                    T-Series          12661     61196302   \n",
       "2     3      5  Cocomelon - Nursery Rhymes            373     19238251   \n",
       "3     4      5                   SET India          27323     31180559   \n",
       "4     5      5                         WWE          36756     32852346   \n",
       "\n",
       "   Video views    Avg_view  \n",
       "0  20869786591   252181.53  \n",
       "1  47548839843  3755535.89  \n",
       "2   9793305082 26255509.60  \n",
       "3  22675948293   829921.62  \n",
       "4  26273668433   714813.05  "
      ]
     },
     "execution_count": 41,
     "metadata": {},
     "output_type": "execute_result"
    }
   ],
   "source": [
    "data1.head()"
   ]
  },
  {
   "cell_type": "markdown",
   "id": "f596c03e",
   "metadata": {},
   "source": [
    "# 12. Find Out Top Five Channels With Maximum Number of Video Uploads"
   ]
  },
  {
   "cell_type": "code",
   "execution_count": 44,
   "id": "aaf0dd50",
   "metadata": {},
   "outputs": [
    {
     "data": {
      "text/plain": [
       "Index(['Rank', 'Grade', 'Channel name', 'Video Uploads', 'Subscribers',\n",
       "       'Video views', 'Avg_view'],\n",
       "      dtype='object')"
      ]
     },
     "execution_count": 44,
     "metadata": {},
     "output_type": "execute_result"
    }
   ],
   "source": [
    "data1.columns"
   ]
  },
  {
   "cell_type": "code",
   "execution_count": 45,
   "id": "4d6c3fe5",
   "metadata": {
    "scrolled": true
   },
   "outputs": [
    {
     "data": {
      "text/html": [
       "<div>\n",
       "<style scoped>\n",
       "    .dataframe tbody tr th:only-of-type {\n",
       "        vertical-align: middle;\n",
       "    }\n",
       "\n",
       "    .dataframe tbody tr th {\n",
       "        vertical-align: top;\n",
       "    }\n",
       "\n",
       "    .dataframe thead th {\n",
       "        text-align: right;\n",
       "    }\n",
       "</style>\n",
       "<table border=\"1\" class=\"dataframe\">\n",
       "  <thead>\n",
       "    <tr style=\"text-align: right;\">\n",
       "      <th></th>\n",
       "      <th>Rank</th>\n",
       "      <th>Grade</th>\n",
       "      <th>Channel name</th>\n",
       "      <th>Video Uploads</th>\n",
       "      <th>Subscribers</th>\n",
       "      <th>Video views</th>\n",
       "      <th>Avg_view</th>\n",
       "    </tr>\n",
       "  </thead>\n",
       "  <tbody>\n",
       "    <tr>\n",
       "      <th>0</th>\n",
       "      <td>1</td>\n",
       "      <td>5</td>\n",
       "      <td>Zee TV</td>\n",
       "      <td>82757</td>\n",
       "      <td>18752951</td>\n",
       "      <td>20869786591</td>\n",
       "      <td>252181.53</td>\n",
       "    </tr>\n",
       "    <tr>\n",
       "      <th>1</th>\n",
       "      <td>2</td>\n",
       "      <td>5</td>\n",
       "      <td>T-Series</td>\n",
       "      <td>12661</td>\n",
       "      <td>61196302</td>\n",
       "      <td>47548839843</td>\n",
       "      <td>3755535.89</td>\n",
       "    </tr>\n",
       "    <tr>\n",
       "      <th>2</th>\n",
       "      <td>3</td>\n",
       "      <td>5</td>\n",
       "      <td>Cocomelon - Nursery Rhymes</td>\n",
       "      <td>373</td>\n",
       "      <td>19238251</td>\n",
       "      <td>9793305082</td>\n",
       "      <td>26255509.60</td>\n",
       "    </tr>\n",
       "    <tr>\n",
       "      <th>3</th>\n",
       "      <td>4</td>\n",
       "      <td>5</td>\n",
       "      <td>SET India</td>\n",
       "      <td>27323</td>\n",
       "      <td>31180559</td>\n",
       "      <td>22675948293</td>\n",
       "      <td>829921.62</td>\n",
       "    </tr>\n",
       "    <tr>\n",
       "      <th>4</th>\n",
       "      <td>5</td>\n",
       "      <td>5</td>\n",
       "      <td>WWE</td>\n",
       "      <td>36756</td>\n",
       "      <td>32852346</td>\n",
       "      <td>26273668433</td>\n",
       "      <td>714813.05</td>\n",
       "    </tr>\n",
       "  </tbody>\n",
       "</table>\n",
       "</div>"
      ],
      "text/plain": [
       "   Rank  Grade                Channel name  Video Uploads  Subscribers  \\\n",
       "0     1      5                      Zee TV          82757     18752951   \n",
       "1     2      5                    T-Series          12661     61196302   \n",
       "2     3      5  Cocomelon - Nursery Rhymes            373     19238251   \n",
       "3     4      5                   SET India          27323     31180559   \n",
       "4     5      5                         WWE          36756     32852346   \n",
       "\n",
       "   Video views    Avg_view  \n",
       "0  20869786591   252181.53  \n",
       "1  47548839843  3755535.89  \n",
       "2   9793305082 26255509.60  \n",
       "3  22675948293   829921.62  \n",
       "4  26273668433   714813.05  "
      ]
     },
     "execution_count": 45,
     "metadata": {},
     "output_type": "execute_result"
    }
   ],
   "source": [
    "data1.head()"
   ]
  },
  {
   "cell_type": "code",
   "execution_count": 47,
   "id": "c7486a4a",
   "metadata": {},
   "outputs": [
    {
     "data": {
      "text/html": [
       "<div>\n",
       "<style scoped>\n",
       "    .dataframe tbody tr th:only-of-type {\n",
       "        vertical-align: middle;\n",
       "    }\n",
       "\n",
       "    .dataframe tbody tr th {\n",
       "        vertical-align: top;\n",
       "    }\n",
       "\n",
       "    .dataframe thead th {\n",
       "        text-align: right;\n",
       "    }\n",
       "</style>\n",
       "<table border=\"1\" class=\"dataframe\">\n",
       "  <thead>\n",
       "    <tr style=\"text-align: right;\">\n",
       "      <th></th>\n",
       "      <th>Rank</th>\n",
       "      <th>Grade</th>\n",
       "      <th>Channel name</th>\n",
       "      <th>Video Uploads</th>\n",
       "      <th>Subscribers</th>\n",
       "      <th>Video views</th>\n",
       "      <th>Avg_view</th>\n",
       "    </tr>\n",
       "  </thead>\n",
       "  <tbody>\n",
       "    <tr>\n",
       "      <th>3453</th>\n",
       "      <td>3454</td>\n",
       "      <td>1</td>\n",
       "      <td>AP Archive</td>\n",
       "      <td>422326</td>\n",
       "      <td>746325</td>\n",
       "      <td>548619569</td>\n",
       "      <td>1299.04</td>\n",
       "    </tr>\n",
       "    <tr>\n",
       "      <th>1149</th>\n",
       "      <td>1150</td>\n",
       "      <td>2</td>\n",
       "      <td>YTN NEWS</td>\n",
       "      <td>355996</td>\n",
       "      <td>820108</td>\n",
       "      <td>1640347646</td>\n",
       "      <td>4607.77</td>\n",
       "    </tr>\n",
       "    <tr>\n",
       "      <th>2223</th>\n",
       "      <td>2224</td>\n",
       "      <td>1</td>\n",
       "      <td>SBS Drama</td>\n",
       "      <td>335521</td>\n",
       "      <td>1418619</td>\n",
       "      <td>1565758044</td>\n",
       "      <td>4666.65</td>\n",
       "    </tr>\n",
       "    <tr>\n",
       "      <th>323</th>\n",
       "      <td>324</td>\n",
       "      <td>3</td>\n",
       "      <td>GMA News</td>\n",
       "      <td>269065</td>\n",
       "      <td>2599175</td>\n",
       "      <td>2786949164</td>\n",
       "      <td>10357.90</td>\n",
       "    </tr>\n",
       "    <tr>\n",
       "      <th>2956</th>\n",
       "      <td>2957</td>\n",
       "      <td>1</td>\n",
       "      <td>MLB</td>\n",
       "      <td>267649</td>\n",
       "      <td>1434206</td>\n",
       "      <td>1329206392</td>\n",
       "      <td>4966.23</td>\n",
       "    </tr>\n",
       "  </tbody>\n",
       "</table>\n",
       "</div>"
      ],
      "text/plain": [
       "      Rank  Grade Channel name  Video Uploads  Subscribers  Video views  \\\n",
       "3453  3454      1   AP Archive         422326       746325    548619569   \n",
       "1149  1150      2     YTN NEWS         355996       820108   1640347646   \n",
       "2223  2224      1    SBS Drama         335521      1418619   1565758044   \n",
       "323    324      3     GMA News         269065      2599175   2786949164   \n",
       "2956  2957      1          MLB         267649      1434206   1329206392   \n",
       "\n",
       "      Avg_view  \n",
       "3453   1299.04  \n",
       "1149   4607.77  \n",
       "2223   4666.65  \n",
       "323   10357.90  \n",
       "2956   4966.23  "
      ]
     },
     "execution_count": 47,
     "metadata": {},
     "output_type": "execute_result"
    }
   ],
   "source": [
    "data1.sort_values(by='Video Uploads',ascending=False).head(5)"
   ]
  },
  {
   "cell_type": "markdown",
   "id": "29f69d62",
   "metadata": {},
   "source": [
    "# 13.find correlations"
   ]
  },
  {
   "cell_type": "code",
   "execution_count": 48,
   "id": "6b7a529c",
   "metadata": {},
   "outputs": [
    {
     "name": "stderr",
     "output_type": "stream",
     "text": [
      "C:\\Users\\shail\\AppData\\Local\\Temp\\ipykernel_8964\\3734675979.py:1: FutureWarning: The default value of numeric_only in DataFrame.corr is deprecated. In a future version, it will default to False. Select only valid columns or specify the value of numeric_only to silence this warning.\n",
      "  data1.corr()\n"
     ]
    },
    {
     "data": {
      "text/html": [
       "<div>\n",
       "<style scoped>\n",
       "    .dataframe tbody tr th:only-of-type {\n",
       "        vertical-align: middle;\n",
       "    }\n",
       "\n",
       "    .dataframe tbody tr th {\n",
       "        vertical-align: top;\n",
       "    }\n",
       "\n",
       "    .dataframe thead th {\n",
       "        text-align: right;\n",
       "    }\n",
       "</style>\n",
       "<table border=\"1\" class=\"dataframe\">\n",
       "  <thead>\n",
       "    <tr style=\"text-align: right;\">\n",
       "      <th></th>\n",
       "      <th>Rank</th>\n",
       "      <th>Grade</th>\n",
       "      <th>Video Uploads</th>\n",
       "      <th>Subscribers</th>\n",
       "      <th>Video views</th>\n",
       "      <th>Avg_view</th>\n",
       "    </tr>\n",
       "  </thead>\n",
       "  <tbody>\n",
       "    <tr>\n",
       "      <th>Rank</th>\n",
       "      <td>1.00</td>\n",
       "      <td>-0.87</td>\n",
       "      <td>-0.07</td>\n",
       "      <td>-0.38</td>\n",
       "      <td>-0.40</td>\n",
       "      <td>-0.15</td>\n",
       "    </tr>\n",
       "    <tr>\n",
       "      <th>Grade</th>\n",
       "      <td>-0.87</td>\n",
       "      <td>1.00</td>\n",
       "      <td>0.09</td>\n",
       "      <td>0.43</td>\n",
       "      <td>0.48</td>\n",
       "      <td>0.16</td>\n",
       "    </tr>\n",
       "    <tr>\n",
       "      <th>Video Uploads</th>\n",
       "      <td>-0.07</td>\n",
       "      <td>0.09</td>\n",
       "      <td>1.00</td>\n",
       "      <td>0.01</td>\n",
       "      <td>0.09</td>\n",
       "      <td>-0.06</td>\n",
       "    </tr>\n",
       "    <tr>\n",
       "      <th>Subscribers</th>\n",
       "      <td>-0.38</td>\n",
       "      <td>0.43</td>\n",
       "      <td>0.01</td>\n",
       "      <td>1.00</td>\n",
       "      <td>0.79</td>\n",
       "      <td>0.29</td>\n",
       "    </tr>\n",
       "    <tr>\n",
       "      <th>Video views</th>\n",
       "      <td>-0.40</td>\n",
       "      <td>0.48</td>\n",
       "      <td>0.09</td>\n",
       "      <td>0.79</td>\n",
       "      <td>1.00</td>\n",
       "      <td>0.29</td>\n",
       "    </tr>\n",
       "    <tr>\n",
       "      <th>Avg_view</th>\n",
       "      <td>-0.15</td>\n",
       "      <td>0.16</td>\n",
       "      <td>-0.06</td>\n",
       "      <td>0.29</td>\n",
       "      <td>0.29</td>\n",
       "      <td>1.00</td>\n",
       "    </tr>\n",
       "  </tbody>\n",
       "</table>\n",
       "</div>"
      ],
      "text/plain": [
       "               Rank  Grade  Video Uploads  Subscribers  Video views  Avg_view\n",
       "Rank           1.00  -0.87          -0.07        -0.38        -0.40     -0.15\n",
       "Grade         -0.87   1.00           0.09         0.43         0.48      0.16\n",
       "Video Uploads -0.07   0.09           1.00         0.01         0.09     -0.06\n",
       "Subscribers   -0.38   0.43           0.01         1.00         0.79      0.29\n",
       "Video views   -0.40   0.48           0.09         0.79         1.00      0.29\n",
       "Avg_view      -0.15   0.16          -0.06         0.29         0.29      1.00"
      ]
     },
     "execution_count": 48,
     "metadata": {},
     "output_type": "execute_result"
    }
   ],
   "source": [
    "data1.corr()"
   ]
  },
  {
   "cell_type": "markdown",
   "id": "431b3958",
   "metadata": {},
   "source": [
    "# 14.  Which Grade Has A Maximum Number of Video Uploads?"
   ]
  },
  {
   "cell_type": "code",
   "execution_count": 49,
   "id": "63a08aac",
   "metadata": {},
   "outputs": [
    {
     "data": {
      "text/plain": [
       "Index(['Rank', 'Grade', 'Channel name', 'Video Uploads', 'Subscribers',\n",
       "       'Video views', 'Avg_view'],\n",
       "      dtype='object')"
      ]
     },
     "execution_count": 49,
     "metadata": {},
     "output_type": "execute_result"
    }
   ],
   "source": [
    "data1.columns"
   ]
  },
  {
   "cell_type": "code",
   "execution_count": 50,
   "id": "0f9cef76",
   "metadata": {
    "collapsed": true
   },
   "outputs": [
    {
     "data": {
      "text/html": [
       "<div>\n",
       "<style scoped>\n",
       "    .dataframe tbody tr th:only-of-type {\n",
       "        vertical-align: middle;\n",
       "    }\n",
       "\n",
       "    .dataframe tbody tr th {\n",
       "        vertical-align: top;\n",
       "    }\n",
       "\n",
       "    .dataframe thead th {\n",
       "        text-align: right;\n",
       "    }\n",
       "</style>\n",
       "<table border=\"1\" class=\"dataframe\">\n",
       "  <thead>\n",
       "    <tr style=\"text-align: right;\">\n",
       "      <th></th>\n",
       "      <th>Rank</th>\n",
       "      <th>Grade</th>\n",
       "      <th>Channel name</th>\n",
       "      <th>Video Uploads</th>\n",
       "      <th>Subscribers</th>\n",
       "      <th>Video views</th>\n",
       "      <th>Avg_view</th>\n",
       "    </tr>\n",
       "  </thead>\n",
       "  <tbody>\n",
       "    <tr>\n",
       "      <th>0</th>\n",
       "      <td>1</td>\n",
       "      <td>5</td>\n",
       "      <td>Zee TV</td>\n",
       "      <td>82757</td>\n",
       "      <td>18752951</td>\n",
       "      <td>20869786591</td>\n",
       "      <td>252181.53</td>\n",
       "    </tr>\n",
       "    <tr>\n",
       "      <th>1</th>\n",
       "      <td>2</td>\n",
       "      <td>5</td>\n",
       "      <td>T-Series</td>\n",
       "      <td>12661</td>\n",
       "      <td>61196302</td>\n",
       "      <td>47548839843</td>\n",
       "      <td>3755535.89</td>\n",
       "    </tr>\n",
       "    <tr>\n",
       "      <th>2</th>\n",
       "      <td>3</td>\n",
       "      <td>5</td>\n",
       "      <td>Cocomelon - Nursery Rhymes</td>\n",
       "      <td>373</td>\n",
       "      <td>19238251</td>\n",
       "      <td>9793305082</td>\n",
       "      <td>26255509.60</td>\n",
       "    </tr>\n",
       "    <tr>\n",
       "      <th>3</th>\n",
       "      <td>4</td>\n",
       "      <td>5</td>\n",
       "      <td>SET India</td>\n",
       "      <td>27323</td>\n",
       "      <td>31180559</td>\n",
       "      <td>22675948293</td>\n",
       "      <td>829921.62</td>\n",
       "    </tr>\n",
       "    <tr>\n",
       "      <th>4</th>\n",
       "      <td>5</td>\n",
       "      <td>5</td>\n",
       "      <td>WWE</td>\n",
       "      <td>36756</td>\n",
       "      <td>32852346</td>\n",
       "      <td>26273668433</td>\n",
       "      <td>714813.05</td>\n",
       "    </tr>\n",
       "    <tr>\n",
       "      <th>...</th>\n",
       "      <td>...</td>\n",
       "      <td>...</td>\n",
       "      <td>...</td>\n",
       "      <td>...</td>\n",
       "      <td>...</td>\n",
       "      <td>...</td>\n",
       "      <td>...</td>\n",
       "    </tr>\n",
       "    <tr>\n",
       "      <th>4995</th>\n",
       "      <td>4996</td>\n",
       "      <td>1</td>\n",
       "      <td>Uras Benlioğlu</td>\n",
       "      <td>706</td>\n",
       "      <td>2072942</td>\n",
       "      <td>441202795</td>\n",
       "      <td>624933.14</td>\n",
       "    </tr>\n",
       "    <tr>\n",
       "      <th>4996</th>\n",
       "      <td>4997</td>\n",
       "      <td>1</td>\n",
       "      <td>HI-TECH MUSIC LTD</td>\n",
       "      <td>797</td>\n",
       "      <td>1055091</td>\n",
       "      <td>377331722</td>\n",
       "      <td>473440.05</td>\n",
       "    </tr>\n",
       "    <tr>\n",
       "      <th>4997</th>\n",
       "      <td>4998</td>\n",
       "      <td>1</td>\n",
       "      <td>Mastersaint</td>\n",
       "      <td>110</td>\n",
       "      <td>3265735</td>\n",
       "      <td>311758426</td>\n",
       "      <td>2834167.51</td>\n",
       "    </tr>\n",
       "    <tr>\n",
       "      <th>4998</th>\n",
       "      <td>4999</td>\n",
       "      <td>1</td>\n",
       "      <td>Bruce McIntosh</td>\n",
       "      <td>3475</td>\n",
       "      <td>32990</td>\n",
       "      <td>14563764</td>\n",
       "      <td>4191.01</td>\n",
       "    </tr>\n",
       "    <tr>\n",
       "      <th>4999</th>\n",
       "      <td>5000</td>\n",
       "      <td>1</td>\n",
       "      <td>SehatAQUA</td>\n",
       "      <td>254</td>\n",
       "      <td>21172</td>\n",
       "      <td>73312511</td>\n",
       "      <td>288631.93</td>\n",
       "    </tr>\n",
       "  </tbody>\n",
       "</table>\n",
       "<p>4610 rows × 7 columns</p>\n",
       "</div>"
      ],
      "text/plain": [
       "      Rank  Grade                Channel name  Video Uploads  Subscribers  \\\n",
       "0        1      5                      Zee TV          82757     18752951   \n",
       "1        2      5                    T-Series          12661     61196302   \n",
       "2        3      5  Cocomelon - Nursery Rhymes            373     19238251   \n",
       "3        4      5                   SET India          27323     31180559   \n",
       "4        5      5                         WWE          36756     32852346   \n",
       "...    ...    ...                         ...            ...          ...   \n",
       "4995  4996      1              Uras Benlioğlu            706      2072942   \n",
       "4996  4997      1           HI-TECH MUSIC LTD            797      1055091   \n",
       "4997  4998      1                 Mastersaint            110      3265735   \n",
       "4998  4999      1              Bruce McIntosh           3475        32990   \n",
       "4999  5000      1                   SehatAQUA            254        21172   \n",
       "\n",
       "      Video views    Avg_view  \n",
       "0     20869786591   252181.53  \n",
       "1     47548839843  3755535.89  \n",
       "2      9793305082 26255509.60  \n",
       "3     22675948293   829921.62  \n",
       "4     26273668433   714813.05  \n",
       "...           ...         ...  \n",
       "4995    441202795   624933.14  \n",
       "4996    377331722   473440.05  \n",
       "4997    311758426  2834167.51  \n",
       "4998     14563764     4191.01  \n",
       "4999     73312511   288631.93  \n",
       "\n",
       "[4610 rows x 7 columns]"
      ]
     },
     "execution_count": 50,
     "metadata": {},
     "output_type": "execute_result"
    }
   ],
   "source": [
    "data1"
   ]
  },
  {
   "cell_type": "code",
   "execution_count": 55,
   "id": "a07cdcfd",
   "metadata": {},
   "outputs": [
    {
     "data": {
      "text/plain": [
       "Grade\n",
       "1    3136.16\n",
       "2    4382.58\n",
       "3    5709.86\n",
       "4   16960.30\n",
       "5   37450.70\n",
       "Name: Video Uploads, dtype: float64"
      ]
     },
     "execution_count": 55,
     "metadata": {},
     "output_type": "execute_result"
    }
   ],
   "source": [
    "data1.groupby('Grade')['Video Uploads'].mean()"
   ]
  },
  {
   "cell_type": "code",
   "execution_count": 60,
   "id": "db442bf5",
   "metadata": {},
   "outputs": [
    {
     "data": {
      "text/plain": [
       "<Axes: xlabel='Grade', ylabel='Video Uploads'>"
      ]
     },
     "execution_count": 60,
     "metadata": {},
     "output_type": "execute_result"
    },
    {
     "data": {
      "image/png": "[encoded data removed]",
      "text/plain": [
       "<Figure size 640x480 with 1 Axes>"
      ]
     },
     "metadata": {},
     "output_type": "display_data"
    }
   ],
   "source": [
    "sns.barplot(x=('Grade'),y=('Video Uploads'),data=data1)"
   ]
  },
  {
   "cell_type": "markdown",
   "id": "028141c5",
   "metadata": {},
   "source": [
    "# 15.Which Grade Has The Highest Average Views?"
   ]
  },
  {
   "cell_type": "code",
   "execution_count": 61,
   "id": "289bd351",
   "metadata": {},
   "outputs": [
    {
     "data": {
      "text/plain": [
       "Index(['Rank', 'Grade', 'Channel name', 'Video Uploads', 'Subscribers',\n",
       "       'Video views', 'Avg_view'],\n",
       "      dtype='object')"
      ]
     },
     "execution_count": 61,
     "metadata": {},
     "output_type": "execute_result"
    }
   ],
   "source": [
    "data1.columns"
   ]
  },
  {
   "cell_type": "code",
   "execution_count": 62,
   "id": "d8b9614f",
   "metadata": {},
   "outputs": [
    {
     "data": {
      "text/plain": [
       "Grade\n",
       "1    3280380.88\n",
       "2    5254804.04\n",
       "3   10540908.45\n",
       "4   11577080.32\n",
       "5    5688267.96\n",
       "Name: Avg_view, dtype: float64"
      ]
     },
     "execution_count": 62,
     "metadata": {},
     "output_type": "execute_result"
    }
   ],
   "source": [
    "data1.groupby('Grade')['Avg_view'].mean()"
   ]
  },
  {
   "cell_type": "code",
   "execution_count": 64,
   "id": "609217d5",
   "metadata": {},
   "outputs": [
    {
     "data": {
      "text/plain": [
       "<Axes: xlabel='Grade', ylabel='Avg_view'>"
      ]
     },
     "execution_count": 64,
     "metadata": {},
     "output_type": "execute_result"
    },
    {
     "data": {
      "image/png": "[encoded data removed]",
      "text/plain": [
       "<Figure size 640x480 with 1 Axes>"
      ]
     },
     "metadata": {},
     "output_type": "display_data"
    }
   ],
   "source": [
    "sns.barplot(x='Grade',y='Avg_view',data=data1)"
   ]
  },
  {
   "cell_type": "markdown",
   "id": "d0f25ddc",
   "metadata": {},
   "source": [
    "# 16.  Which Grade Has The Highest Number of Subscribers? "
   ]
  },
  {
   "cell_type": "code",
   "execution_count": 65,
   "id": "f404bd9c",
   "metadata": {},
   "outputs": [
    {
     "data": {
      "text/plain": [
       "Index(['Rank', 'Grade', 'Channel name', 'Video Uploads', 'Subscribers',\n",
       "       'Video views', 'Avg_view'],\n",
       "      dtype='object')"
      ]
     },
     "execution_count": 65,
     "metadata": {},
     "output_type": "execute_result"
    }
   ],
   "source": [
    "data1.columns"
   ]
  },
  {
   "cell_type": "code",
   "execution_count": 69,
   "id": "e8d15bfc",
   "metadata": {},
   "outputs": [
    {
     "data": {
      "text/plain": [
       "Grade\n",
       "1    1535207.95\n",
       "2    2798520.38\n",
       "3    5107136.29\n",
       "4   11726947.47\n",
       "5   22281762.50\n",
       "Name: Subscribers, dtype: float64"
      ]
     },
     "execution_count": 69,
     "metadata": {},
     "output_type": "execute_result"
    }
   ],
   "source": [
    "data1.groupby('Grade')['Subscribers'].mean()"
   ]
  },
  {
   "cell_type": "code",
   "execution_count": 70,
   "id": "9161b005",
   "metadata": {},
   "outputs": [
    {
     "data": {
      "text/plain": [
       "<Axes: xlabel='Grade', ylabel='Subscribers'>"
      ]
     },
     "execution_count": 70,
     "metadata": {},
     "output_type": "execute_result"
    },
    {
     "data": {
      "image/png": "[encoded data removed]",
      "text/plain": [
       "<Figure size 640x480 with 1 Axes>"
      ]
     },
     "metadata": {},
     "output_type": "display_data"
    }
   ],
   "source": [
    "sns.barplot(x='Grade',y='Subscribers',data=data1)"
   ]
  },
  {
   "cell_type": "markdown",
   "id": "50c056cf",
   "metadata": {},
   "source": [
    "# 17. Which Grade Has The Highest Video Views? "
   ]
  },
  {
   "cell_type": "code",
   "execution_count": 71,
   "id": "20124ce5",
   "metadata": {},
   "outputs": [
    {
     "data": {
      "text/plain": [
       "Index(['Rank', 'Grade', 'Channel name', 'Video Uploads', 'Subscribers',\n",
       "       'Video views', 'Avg_view'],\n",
       "      dtype='object')"
      ]
     },
     "execution_count": 71,
     "metadata": {},
     "output_type": "execute_result"
    }
   ],
   "source": [
    "data1.columns"
   ]
  },
  {
   "cell_type": "code",
   "execution_count": 72,
   "id": "e77839e1",
   "metadata": {},
   "outputs": [
    {
     "data": {
      "text/plain": [
       "Grade\n",
       "1     555183839.09\n",
       "2    1102450027.69\n",
       "3    2497972949.11\n",
       "4    6168741772.73\n",
       "5   21199091192.80\n",
       "Name: Video views, dtype: float64"
      ]
     },
     "execution_count": 72,
     "metadata": {},
     "output_type": "execute_result"
    }
   ],
   "source": [
    "data1.groupby('Grade')['Video views'].mean()"
   ]
  },
  {
   "cell_type": "code",
   "execution_count": 73,
   "id": "beef3b88",
   "metadata": {},
   "outputs": [
    {
     "data": {
      "text/plain": [
       "<Axes: xlabel='Grade', ylabel='Video views'>"
      ]
     },
     "execution_count": 73,
     "metadata": {},
     "output_type": "execute_result"
    },
    {
     "data": {
      "image/png": "[encoded data removed]",
      "text/plain": [
       "<Figure size 640x480 with 1 Axes>"
      ]
     },
     "metadata": {},
     "output_type": "display_data"
    }
   ],
   "source": [
    "sns.barplot(x='Grade',y='Video views',data=data1)"
   ]
  },
  {
   "cell_type": "code",
   "execution_count": null,
   "id": "1abf793d",
   "metadata": {},
   "outputs": [],
   "source": []
  }
 ],
 "metadata": {
  "kernelspec": {
   "display_name": "Python 3 (ipykernel)",
   "language": "python",
   "name": "python3"
  },
  "language_info": {
   "codemirror_mode": {
    "name": "ipython",
    "version": 3
   },
   "file_extension": ".py",
   "mimetype": "text/x-python",
   "name": "python",
   "nbconvert_exporter": "python",
   "pygments_lexer": "ipython3",
   "version": "3.10.9"
  }
 },
 "nbformat": 4,
 "nbformat_minor": 5
}
